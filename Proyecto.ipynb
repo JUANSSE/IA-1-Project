{
  "nbformat": 4,
  "nbformat_minor": 0,
  "metadata": {
    "colab": {
      "name": "Proyecto.ipynb",
      "provenance": [],
      "collapsed_sections": [],
      "include_colab_link": true
    },
    "kernelspec": {
      "name": "python3",
      "display_name": "Python 3"
    },
    "language_info": {
      "name": "python"
    },
    "accelerator": "GPU"
  },
  "cells": [
    {
      "cell_type": "markdown",
      "metadata": {
        "id": "view-in-github",
        "colab_type": "text"
      },
      "source": [
        "<a href=\"https://colab.research.google.com/github/JUANSSE/IA-1-Project/blob/main/Proyecto.ipynb\" target=\"_parent\"><img src=\"https://colab.research.google.com/assets/colab-badge.svg\" alt=\"Open In Colab\"/></a>"
      ]
    },
    {
      "cell_type": "code",
      "metadata": {
        "id": "dSNjX25nfVKk"
      },
      "source": [
        "import numpy as np\n",
        "import matplotlib.pyplot as plt\n",
        "import pandas as pd\n",
        "import seaborn as sns\n",
        "from sklearn.naive_bayes import GaussianNB\n",
        "from sklearn.cluster import KMeans\n",
        "from sklearn.ensemble import RandomForestClassifier\n",
        "from sklearn.tree import DecisionTreeRegressor"
      ],
      "execution_count": null,
      "outputs": []
    },
    {
      "cell_type": "code",
      "metadata": {
        "colab": {
          "base_uri": "https://localhost:8080/"
        },
        "id": "nqwags7-Y2yk",
        "outputId": "8a575354-ac9e-4bae-c825-44ae5de650a5"
      },
      "source": [
        "import os\n",
        "from google.colab import drive\n",
        "drive.mount('/content/drive')\n",
        "os.chdir('/content/drive/My Drive/IA_Proyecto/Dataset')\n",
        "print(os.getcwd())\n",
        "df = pd.read_csv('subMuestra-Accidentalidad.csv')"
      ],
      "execution_count": null,
      "outputs": [
        {
          "output_type": "stream",
          "name": "stdout",
          "text": [
            "Mounted at /content/drive\n",
            "/content/drive/My Drive/IA_Proyecto/Dataset\n"
          ]
        }
      ]
    },
    {
      "cell_type": "code",
      "metadata": {
        "colab": {
          "base_uri": "https://localhost:8080/"
        },
        "id": "nH-KDCyPfYiR",
        "outputId": "99a84986-aa6c-4501-eae7-ad368035ea9d"
      },
      "source": [
        "df.shape"
      ],
      "execution_count": null,
      "outputs": [
        {
          "output_type": "execute_result",
          "data": {
            "text/plain": [
              "(70919, 13)"
            ]
          },
          "metadata": {},
          "execution_count": 14
        }
      ]
    },
    {
      "cell_type": "code",
      "metadata": {
        "id": "tXGIwdGAfdko"
      },
      "source": [
        "df = df.drop(['DIRECCION_ENC','RADICADO','OBJECTID'], axis=1)"
      ],
      "execution_count": null,
      "outputs": []
    },
    {
      "cell_type": "code",
      "metadata": {
        "id": "L8xrrpONfgEJ"
      },
      "source": [
        "df.rename(columns={'CBML':'CODIGO CBML','DIA_NOMBRE':'NOMBRE DEL DIA','DISENO':'DISEÑO','MES_NOMBRE':'NOMBRE DEL MES','TIPO_GEOCOD':'TIPO DE COORDENADA'}, inplace = True)"
      ],
      "execution_count": null,
      "outputs": []
    },
    {
      "cell_type": "code",
      "metadata": {
        "colab": {
          "base_uri": "https://localhost:8080/",
          "height": 377
        },
        "id": "Err0F55Tfidx",
        "outputId": "8636bc33-0af6-4cf9-9e20-bf8e15a72e83"
      },
      "source": [
        "df.head(5)"
      ],
      "execution_count": null,
      "outputs": [
        {
          "output_type": "execute_result",
          "data": {
            "text/html": [
              "<div>\n",
              "<style scoped>\n",
              "    .dataframe tbody tr th:only-of-type {\n",
              "        vertical-align: middle;\n",
              "    }\n",
              "\n",
              "    .dataframe tbody tr th {\n",
              "        vertical-align: top;\n",
              "    }\n",
              "\n",
              "    .dataframe thead th {\n",
              "        text-align: right;\n",
              "    }\n",
              "</style>\n",
              "<table border=\"1\" class=\"dataframe\">\n",
              "  <thead>\n",
              "    <tr style=\"text-align: right;\">\n",
              "      <th></th>\n",
              "      <th>BARRIO</th>\n",
              "      <th>CODIGO CBML</th>\n",
              "      <th>CLASE</th>\n",
              "      <th>COMUNA</th>\n",
              "      <th>DIA</th>\n",
              "      <th>NOMBRE DEL DIA</th>\n",
              "      <th>DIRECCION</th>\n",
              "      <th>DISEÑO</th>\n",
              "      <th>FECHA</th>\n",
              "      <th>GRAVEDAD</th>\n",
              "      <th>HORA</th>\n",
              "      <th>MES</th>\n",
              "      <th>NOMBRE DEL MES</th>\n",
              "      <th>PERIODO</th>\n",
              "      <th>TIPO DE COORDENADA</th>\n",
              "      <th>X</th>\n",
              "      <th>Y</th>\n",
              "    </tr>\n",
              "  </thead>\n",
              "  <tbody>\n",
              "    <tr>\n",
              "      <th>0</th>\n",
              "      <td>Campo Amor</td>\n",
              "      <td>1507</td>\n",
              "      <td>Choque</td>\n",
              "      <td>Guayabal</td>\n",
              "      <td>20</td>\n",
              "      <td>JUEVES</td>\n",
              "      <td>CR 50 FF CL 9 AA</td>\n",
              "      <td>Tramo de via</td>\n",
              "      <td>2018-09-20T00:00:00.000Z</td>\n",
              "      <td>HERIDO</td>\n",
              "      <td>02:10:00 p. m.</td>\n",
              "      <td>9</td>\n",
              "      <td>SEPTIEMBRE</td>\n",
              "      <td>2018</td>\n",
              "      <td>Malla vial aproximada: CR 50-10</td>\n",
              "      <td>-75.578357</td>\n",
              "      <td>6.213719</td>\n",
              "    </tr>\n",
              "    <tr>\n",
              "      <th>1</th>\n",
              "      <td>Villa Flora</td>\n",
              "      <td>0715</td>\n",
              "      <td>Atropello</td>\n",
              "      <td>Robledo</td>\n",
              "      <td>21</td>\n",
              "      <td>MIÉRCOLES</td>\n",
              "      <td>CL 76 AE CR 83</td>\n",
              "      <td>Tramo de via</td>\n",
              "      <td>2018-03-21T00:00:00.000Z</td>\n",
              "      <td>HERIDO</td>\n",
              "      <td>08:30 PM</td>\n",
              "      <td>3</td>\n",
              "      <td>MARZO</td>\n",
              "      <td>2018</td>\n",
              "      <td>Malla vial</td>\n",
              "      <td>-75.592022</td>\n",
              "      <td>6.279157</td>\n",
              "    </tr>\n",
              "    <tr>\n",
              "      <th>2</th>\n",
              "      <td>Robledo</td>\n",
              "      <td>0717</td>\n",
              "      <td>Choque</td>\n",
              "      <td>Robledo</td>\n",
              "      <td>30</td>\n",
              "      <td>JUEVES</td>\n",
              "      <td>CR 85 CL 65</td>\n",
              "      <td>Interseccion</td>\n",
              "      <td>2018-08-30T00:00:00.000Z</td>\n",
              "      <td>SOLO DAÑOS</td>\n",
              "      <td>09:20:00 p. m.</td>\n",
              "      <td>8</td>\n",
              "      <td>AGOSTO</td>\n",
              "      <td>2018</td>\n",
              "      <td>Malla vial</td>\n",
              "      <td>-75.595882</td>\n",
              "      <td>6.275555</td>\n",
              "    </tr>\n",
              "    <tr>\n",
              "      <th>3</th>\n",
              "      <td>La Candelaria</td>\n",
              "      <td>1019</td>\n",
              "      <td>Choque</td>\n",
              "      <td>La Candelaria</td>\n",
              "      <td>10</td>\n",
              "      <td>LUNES</td>\n",
              "      <td>CL 49 A CR 49</td>\n",
              "      <td>Interseccion</td>\n",
              "      <td>2018-09-10T00:00:00.000Z</td>\n",
              "      <td>SOLO DAÑOS</td>\n",
              "      <td>08:50:00 a. m.</td>\n",
              "      <td>9</td>\n",
              "      <td>SEPTIEMBRE</td>\n",
              "      <td>2018</td>\n",
              "      <td>Malla vial aproximada: CL 49-49</td>\n",
              "      <td>-75.567284</td>\n",
              "      <td>6.248271</td>\n",
              "    </tr>\n",
              "    <tr>\n",
              "      <th>4</th>\n",
              "      <td>Manila</td>\n",
              "      <td>1419</td>\n",
              "      <td>Choque</td>\n",
              "      <td>El Poblado</td>\n",
              "      <td>12</td>\n",
              "      <td>VIERNES</td>\n",
              "      <td>CR 48 DD CL 9</td>\n",
              "      <td>Tramo de via</td>\n",
              "      <td>2018-10-12T00:00:00.000Z</td>\n",
              "      <td>SOLO DAÑOS</td>\n",
              "      <td>06:18:00 p. m.</td>\n",
              "      <td>10</td>\n",
              "      <td>OCTUBRE</td>\n",
              "      <td>2018</td>\n",
              "      <td>Malla vial aproximada: CR 48-10</td>\n",
              "      <td>-75.576195</td>\n",
              "      <td>6.213677</td>\n",
              "    </tr>\n",
              "  </tbody>\n",
              "</table>\n",
              "</div>"
            ],
            "text/plain": [
              "          BARRIO CODIGO CBML  ...          X         Y\n",
              "0     Campo Amor        1507  ... -75.578357  6.213719\n",
              "1    Villa Flora        0715  ... -75.592022  6.279157\n",
              "2        Robledo        0717  ... -75.595882  6.275555\n",
              "3  La Candelaria        1019  ... -75.567284  6.248271\n",
              "4         Manila        1419  ... -75.576195  6.213677\n",
              "\n",
              "[5 rows x 17 columns]"
            ]
          },
          "metadata": {},
          "execution_count": 6
        }
      ]
    },
    {
      "cell_type": "code",
      "metadata": {
        "colab": {
          "base_uri": "https://localhost:8080/"
        },
        "id": "YLNPoznnfllZ",
        "outputId": "740ee439-d1e3-46d4-bc3d-97b12d0b7c37"
      },
      "source": [
        "df.info()"
      ],
      "execution_count": null,
      "outputs": [
        {
          "output_type": "stream",
          "name": "stdout",
          "text": [
            "<class 'pandas.core.frame.DataFrame'>\n",
            "RangeIndex: 35619 entries, 0 to 35618\n",
            "Data columns (total 17 columns):\n",
            " #   Column              Non-Null Count  Dtype  \n",
            "---  ------              --------------  -----  \n",
            " 0   BARRIO              35566 non-null  object \n",
            " 1   CODIGO CBML         35577 non-null  object \n",
            " 2   CLASE               35619 non-null  object \n",
            " 3   COMUNA              35579 non-null  object \n",
            " 4   DIA                 35619 non-null  int64  \n",
            " 5   NOMBRE DEL DIA      35619 non-null  object \n",
            " 6   DIRECCION           35619 non-null  object \n",
            " 7   DISEÑO              35523 non-null  object \n",
            " 8   FECHA               35619 non-null  object \n",
            " 9   GRAVEDAD            35619 non-null  object \n",
            " 10  HORA                35619 non-null  object \n",
            " 11  MES                 35619 non-null  int64  \n",
            " 12  NOMBRE DEL MES      35619 non-null  object \n",
            " 13  PERIODO             35619 non-null  int64  \n",
            " 14  TIPO DE COORDENADA  35619 non-null  object \n",
            " 15  X                   35619 non-null  float64\n",
            " 16  Y                   35619 non-null  float64\n",
            "dtypes: float64(2), int64(3), object(12)\n",
            "memory usage: 4.6+ MB\n"
          ]
        }
      ]
    },
    {
      "cell_type": "code",
      "metadata": {
        "id": "iOmEq04Efm3Q"
      },
      "source": [
        "df = df.drop(df[df['COMUNA']=='Sin Inf'].index)\n",
        "\n",
        "df.drop(df[df['CODIGO CBML'].isnull()].index, inplace = True)\n",
        "df.drop(df[df['BARRIO'].isnull()].index,inplace = True)\n",
        "df.drop(df[df['COMUNA'].isnull()].index, inplace = True)\n",
        "df.drop(df[df['DISEÑO'].isnull()].index, inplace = True)\n",
        "df.drop(df[df['GRAVEDAD'].isnull()].index, inplace = True)"
      ],
      "execution_count": null,
      "outputs": []
    },
    {
      "cell_type": "code",
      "metadata": {
        "id": "MDUI2ZcGfwyi"
      },
      "source": [
        "df['FECHA'] = pd.to_datetime(df['FECHA'])"
      ],
      "execution_count": null,
      "outputs": []
    },
    {
      "cell_type": "code",
      "metadata": {
        "id": "2m8ClnR0fyVZ"
      },
      "source": [
        "df['FECHA'] = df['FECHA'].dt.date"
      ],
      "execution_count": null,
      "outputs": []
    },
    {
      "cell_type": "code",
      "metadata": {
        "id": "3gJ-CwDEf0A4"
      },
      "source": [
        "df['HORA'] = pd.to_datetime(df['HORA'])"
      ],
      "execution_count": null,
      "outputs": []
    },
    {
      "cell_type": "code",
      "metadata": {
        "colab": {
          "base_uri": "https://localhost:8080/"
        },
        "id": "iGH2cbgVf1NK",
        "outputId": "df6bf60e-7531-4ae7-8640-9fcb4d42a156"
      },
      "source": [
        "df['HORA']"
      ],
      "execution_count": null,
      "outputs": [
        {
          "output_type": "execute_result",
          "data": {
            "text/plain": [
              "0       2021-09-28 14:10:00\n",
              "1       2021-09-28 20:30:00\n",
              "2       2021-09-28 21:20:00\n",
              "3       2021-09-28 08:50:00\n",
              "4       2021-09-28 18:18:00\n",
              "                ...        \n",
              "35614   2021-09-28 18:50:00\n",
              "35615   2021-09-28 01:00:00\n",
              "35616   2021-09-28 10:30:00\n",
              "35617   2021-09-28 16:00:00\n",
              "35618   2021-09-28 16:20:00\n",
              "Name: HORA, Length: 35472, dtype: datetime64[ns]"
            ]
          },
          "metadata": {},
          "execution_count": 12
        }
      ]
    },
    {
      "cell_type": "code",
      "metadata": {
        "id": "h6QlfuLqf3rp"
      },
      "source": [
        "df['HORA'] = df['HORA'].dt.time"
      ],
      "execution_count": null,
      "outputs": []
    },
    {
      "cell_type": "code",
      "metadata": {
        "id": "3SsRDKgjf8br"
      },
      "source": [
        "df['FECHA'] = pd.to_datetime(df['FECHA'])"
      ],
      "execution_count": null,
      "outputs": []
    },
    {
      "cell_type": "code",
      "metadata": {
        "colab": {
          "base_uri": "https://localhost:8080/",
          "height": 694
        },
        "id": "RZKcMJ7d3juB",
        "outputId": "a06990fe-a978-4aec-924d-4845c16fda0f"
      },
      "source": [
        "df"
      ],
      "execution_count": null,
      "outputs": [
        {
          "output_type": "execute_result",
          "data": {
            "text/html": [
              "<div>\n",
              "<style scoped>\n",
              "    .dataframe tbody tr th:only-of-type {\n",
              "        vertical-align: middle;\n",
              "    }\n",
              "\n",
              "    .dataframe tbody tr th {\n",
              "        vertical-align: top;\n",
              "    }\n",
              "\n",
              "    .dataframe thead th {\n",
              "        text-align: right;\n",
              "    }\n",
              "</style>\n",
              "<table border=\"1\" class=\"dataframe\">\n",
              "  <thead>\n",
              "    <tr style=\"text-align: right;\">\n",
              "      <th></th>\n",
              "      <th>BARRIO</th>\n",
              "      <th>CODIGO CBML</th>\n",
              "      <th>CLASE</th>\n",
              "      <th>COMUNA</th>\n",
              "      <th>DIA</th>\n",
              "      <th>NOMBRE DEL DIA</th>\n",
              "      <th>DIRECCION</th>\n",
              "      <th>DISEÑO</th>\n",
              "      <th>FECHA</th>\n",
              "      <th>GRAVEDAD</th>\n",
              "      <th>HORA</th>\n",
              "      <th>MES</th>\n",
              "      <th>NOMBRE DEL MES</th>\n",
              "      <th>PERIODO</th>\n",
              "      <th>TIPO DE COORDENADA</th>\n",
              "      <th>X</th>\n",
              "      <th>Y</th>\n",
              "    </tr>\n",
              "  </thead>\n",
              "  <tbody>\n",
              "    <tr>\n",
              "      <th>0</th>\n",
              "      <td>Campo Amor</td>\n",
              "      <td>1507</td>\n",
              "      <td>Choque</td>\n",
              "      <td>Guayabal</td>\n",
              "      <td>20</td>\n",
              "      <td>JUEVES</td>\n",
              "      <td>CR 50 FF CL 9 AA</td>\n",
              "      <td>Tramo de via</td>\n",
              "      <td>2018-09-20</td>\n",
              "      <td>HERIDO</td>\n",
              "      <td>14:10:00</td>\n",
              "      <td>9</td>\n",
              "      <td>SEPTIEMBRE</td>\n",
              "      <td>2018</td>\n",
              "      <td>Malla vial aproximada: CR 50-10</td>\n",
              "      <td>-75.578357</td>\n",
              "      <td>6.213719</td>\n",
              "    </tr>\n",
              "    <tr>\n",
              "      <th>1</th>\n",
              "      <td>Villa Flora</td>\n",
              "      <td>0715</td>\n",
              "      <td>Atropello</td>\n",
              "      <td>Robledo</td>\n",
              "      <td>21</td>\n",
              "      <td>MIÉRCOLES</td>\n",
              "      <td>CL 76 AE CR 83</td>\n",
              "      <td>Tramo de via</td>\n",
              "      <td>2018-03-21</td>\n",
              "      <td>HERIDO</td>\n",
              "      <td>20:30:00</td>\n",
              "      <td>3</td>\n",
              "      <td>MARZO</td>\n",
              "      <td>2018</td>\n",
              "      <td>Malla vial</td>\n",
              "      <td>-75.592022</td>\n",
              "      <td>6.279157</td>\n",
              "    </tr>\n",
              "    <tr>\n",
              "      <th>2</th>\n",
              "      <td>Robledo</td>\n",
              "      <td>0717</td>\n",
              "      <td>Choque</td>\n",
              "      <td>Robledo</td>\n",
              "      <td>30</td>\n",
              "      <td>JUEVES</td>\n",
              "      <td>CR 85 CL 65</td>\n",
              "      <td>Interseccion</td>\n",
              "      <td>2018-08-30</td>\n",
              "      <td>SOLO DAÑOS</td>\n",
              "      <td>21:20:00</td>\n",
              "      <td>8</td>\n",
              "      <td>AGOSTO</td>\n",
              "      <td>2018</td>\n",
              "      <td>Malla vial</td>\n",
              "      <td>-75.595882</td>\n",
              "      <td>6.275555</td>\n",
              "    </tr>\n",
              "    <tr>\n",
              "      <th>3</th>\n",
              "      <td>La Candelaria</td>\n",
              "      <td>1019</td>\n",
              "      <td>Choque</td>\n",
              "      <td>La Candelaria</td>\n",
              "      <td>10</td>\n",
              "      <td>LUNES</td>\n",
              "      <td>CL 49 A CR 49</td>\n",
              "      <td>Interseccion</td>\n",
              "      <td>2018-09-10</td>\n",
              "      <td>SOLO DAÑOS</td>\n",
              "      <td>08:50:00</td>\n",
              "      <td>9</td>\n",
              "      <td>SEPTIEMBRE</td>\n",
              "      <td>2018</td>\n",
              "      <td>Malla vial aproximada: CL 49-49</td>\n",
              "      <td>-75.567284</td>\n",
              "      <td>6.248271</td>\n",
              "    </tr>\n",
              "    <tr>\n",
              "      <th>4</th>\n",
              "      <td>Manila</td>\n",
              "      <td>1419</td>\n",
              "      <td>Choque</td>\n",
              "      <td>El Poblado</td>\n",
              "      <td>12</td>\n",
              "      <td>VIERNES</td>\n",
              "      <td>CR 48 DD CL 9</td>\n",
              "      <td>Tramo de via</td>\n",
              "      <td>2018-10-12</td>\n",
              "      <td>SOLO DAÑOS</td>\n",
              "      <td>18:18:00</td>\n",
              "      <td>10</td>\n",
              "      <td>OCTUBRE</td>\n",
              "      <td>2018</td>\n",
              "      <td>Malla vial aproximada: CR 48-10</td>\n",
              "      <td>-75.576195</td>\n",
              "      <td>6.213677</td>\n",
              "    </tr>\n",
              "    <tr>\n",
              "      <th>...</th>\n",
              "      <td>...</td>\n",
              "      <td>...</td>\n",
              "      <td>...</td>\n",
              "      <td>...</td>\n",
              "      <td>...</td>\n",
              "      <td>...</td>\n",
              "      <td>...</td>\n",
              "      <td>...</td>\n",
              "      <td>...</td>\n",
              "      <td>...</td>\n",
              "      <td>...</td>\n",
              "      <td>...</td>\n",
              "      <td>...</td>\n",
              "      <td>...</td>\n",
              "      <td>...</td>\n",
              "      <td>...</td>\n",
              "      <td>...</td>\n",
              "    </tr>\n",
              "    <tr>\n",
              "      <th>35614</th>\n",
              "      <td>Manrique Central No. 1</td>\n",
              "      <td>0409</td>\n",
              "      <td>Caida Ocupante</td>\n",
              "      <td>Aranjuez</td>\n",
              "      <td>10</td>\n",
              "      <td>MIÉRCOLES</td>\n",
              "      <td>CL 67 CR 48</td>\n",
              "      <td>Tramo de via</td>\n",
              "      <td>2019-04-10</td>\n",
              "      <td>HERIDO</td>\n",
              "      <td>18:50:00</td>\n",
              "      <td>4</td>\n",
              "      <td>ABRIL</td>\n",
              "      <td>2019</td>\n",
              "      <td>Malla vial</td>\n",
              "      <td>-75.557681</td>\n",
              "      <td>6.263142</td>\n",
              "    </tr>\n",
              "    <tr>\n",
              "      <th>35615</th>\n",
              "      <td>Loreto</td>\n",
              "      <td>0913</td>\n",
              "      <td>Otro</td>\n",
              "      <td>Buenos Aires</td>\n",
              "      <td>1</td>\n",
              "      <td>JUEVES</td>\n",
              "      <td>CR 30 CL 35</td>\n",
              "      <td>Lote o Predio</td>\n",
              "      <td>2019-08-01</td>\n",
              "      <td>HERIDO</td>\n",
              "      <td>01:00:00</td>\n",
              "      <td>8</td>\n",
              "      <td>AGOSTO</td>\n",
              "      <td>2019</td>\n",
              "      <td>Malla vial</td>\n",
              "      <td>-75.558421</td>\n",
              "      <td>6.232295</td>\n",
              "    </tr>\n",
              "    <tr>\n",
              "      <th>35616</th>\n",
              "      <td>Las Brisas</td>\n",
              "      <td>0502</td>\n",
              "      <td>Choque</td>\n",
              "      <td>Castilla</td>\n",
              "      <td>5</td>\n",
              "      <td>JUEVES</td>\n",
              "      <td>CR 64 C CL 104</td>\n",
              "      <td>Tramo de via</td>\n",
              "      <td>2019-09-05</td>\n",
              "      <td>HERIDO</td>\n",
              "      <td>10:30:00</td>\n",
              "      <td>9</td>\n",
              "      <td>SEPTIEMBRE</td>\n",
              "      <td>2019</td>\n",
              "      <td>Malla vial</td>\n",
              "      <td>-75.563815</td>\n",
              "      <td>6.301392</td>\n",
              "    </tr>\n",
              "    <tr>\n",
              "      <th>35617</th>\n",
              "      <td>Barrio Colón</td>\n",
              "      <td>1013</td>\n",
              "      <td>Otro</td>\n",
              "      <td>La Candelaria</td>\n",
              "      <td>23</td>\n",
              "      <td>MARTES</td>\n",
              "      <td>CR 44 CL 44</td>\n",
              "      <td>Tramo de via</td>\n",
              "      <td>2019-04-23</td>\n",
              "      <td>HERIDO</td>\n",
              "      <td>16:00:00</td>\n",
              "      <td>4</td>\n",
              "      <td>ABRIL</td>\n",
              "      <td>2019</td>\n",
              "      <td>Malla vial</td>\n",
              "      <td>-75.566617</td>\n",
              "      <td>6.243250</td>\n",
              "    </tr>\n",
              "    <tr>\n",
              "      <th>35618</th>\n",
              "      <td>Buenos Aires</td>\n",
              "      <td>0907</td>\n",
              "      <td>Choque</td>\n",
              "      <td>Buenos Aires</td>\n",
              "      <td>23</td>\n",
              "      <td>MARTES</td>\n",
              "      <td>CR 36 A DG 45</td>\n",
              "      <td>Interseccion</td>\n",
              "      <td>2019-04-23</td>\n",
              "      <td>HERIDO</td>\n",
              "      <td>16:20:00</td>\n",
              "      <td>4</td>\n",
              "      <td>ABRIL</td>\n",
              "      <td>2019</td>\n",
              "      <td>Malla vial</td>\n",
              "      <td>-75.559189</td>\n",
              "      <td>6.240963</td>\n",
              "    </tr>\n",
              "  </tbody>\n",
              "</table>\n",
              "<p>35472 rows × 17 columns</p>\n",
              "</div>"
            ],
            "text/plain": [
              "                       BARRIO CODIGO CBML  ...          X         Y\n",
              "0                  Campo Amor        1507  ... -75.578357  6.213719\n",
              "1                 Villa Flora        0715  ... -75.592022  6.279157\n",
              "2                     Robledo        0717  ... -75.595882  6.275555\n",
              "3               La Candelaria        1019  ... -75.567284  6.248271\n",
              "4                      Manila        1419  ... -75.576195  6.213677\n",
              "...                       ...         ...  ...        ...       ...\n",
              "35614  Manrique Central No. 1        0409  ... -75.557681  6.263142\n",
              "35615                  Loreto        0913  ... -75.558421  6.232295\n",
              "35616              Las Brisas        0502  ... -75.563815  6.301392\n",
              "35617            Barrio Colón        1013  ... -75.566617  6.243250\n",
              "35618            Buenos Aires        0907  ... -75.559189  6.240963\n",
              "\n",
              "[35472 rows x 17 columns]"
            ]
          },
          "metadata": {},
          "execution_count": 15
        }
      ]
    },
    {
      "cell_type": "code",
      "metadata": {
        "id": "UvHjkXlD30_H",
        "colab": {
          "base_uri": "https://localhost:8080/"
        },
        "outputId": "ad8b9c17-3b28-4f6e-929d-bf21389cc6dd"
      },
      "source": [
        "df.info()"
      ],
      "execution_count": null,
      "outputs": [
        {
          "output_type": "stream",
          "name": "stdout",
          "text": [
            "<class 'pandas.core.frame.DataFrame'>\n",
            "Int64Index: 35472 entries, 0 to 35618\n",
            "Data columns (total 17 columns):\n",
            " #   Column              Non-Null Count  Dtype         \n",
            "---  ------              --------------  -----         \n",
            " 0   BARRIO              35472 non-null  object        \n",
            " 1   CODIGO CBML         35472 non-null  object        \n",
            " 2   CLASE               35472 non-null  object        \n",
            " 3   COMUNA              35472 non-null  object        \n",
            " 4   DIA                 35472 non-null  int64         \n",
            " 5   NOMBRE DEL DIA      35472 non-null  object        \n",
            " 6   DIRECCION           35472 non-null  object        \n",
            " 7   DISEÑO              35472 non-null  object        \n",
            " 8   FECHA               35472 non-null  datetime64[ns]\n",
            " 9   GRAVEDAD            35472 non-null  object        \n",
            " 10  HORA                35472 non-null  object        \n",
            " 11  MES                 35472 non-null  int64         \n",
            " 12  NOMBRE DEL MES      35472 non-null  object        \n",
            " 13  PERIODO             35472 non-null  int64         \n",
            " 14  TIPO DE COORDENADA  35472 non-null  object        \n",
            " 15  X                   35472 non-null  float64       \n",
            " 16  Y                   35472 non-null  float64       \n",
            "dtypes: datetime64[ns](1), float64(2), int64(3), object(11)\n",
            "memory usage: 6.1+ MB\n"
          ]
        }
      ]
    },
    {
      "cell_type": "code",
      "metadata": {
        "id": "EgVOj9v040Xm"
      },
      "source": [
        "accidentes = pd.read_csv(\"/content/drive/My Drive/IA_Proyecto/Dataset/X.csv\", encoding = 'utf-8')"
      ],
      "execution_count": null,
      "outputs": []
    },
    {
      "cell_type": "code",
      "metadata": {
        "colab": {
          "base_uri": "https://localhost:8080/"
        },
        "id": "ni8-QfBf47mH",
        "outputId": "61d1b93f-821d-49b4-8432-f4d10c1744b8"
      },
      "source": [
        "accidentes['NUM_GRAVEDAD'].unique()"
      ],
      "execution_count": null,
      "outputs": [
        {
          "output_type": "execute_result",
          "data": {
            "text/plain": [
              "array([0., 1., 2.])"
            ]
          },
          "metadata": {},
          "execution_count": 5
        }
      ]
    },
    {
      "cell_type": "code",
      "metadata": {
        "colab": {
          "base_uri": "https://localhost:8080/",
          "height": 419
        },
        "id": "-erURgu34_Xg",
        "outputId": "a0737930-b603-4b8d-eaf8-4872ccece360"
      },
      "source": [
        "submuestra = accidentes.sample(n=150 , random_state=1)\n",
        "submuestra"
      ],
      "execution_count": null,
      "outputs": [
        {
          "output_type": "execute_result",
          "data": {
            "text/html": [
              "<div>\n",
              "<style scoped>\n",
              "    .dataframe tbody tr th:only-of-type {\n",
              "        vertical-align: middle;\n",
              "    }\n",
              "\n",
              "    .dataframe tbody tr th {\n",
              "        vertical-align: top;\n",
              "    }\n",
              "\n",
              "    .dataframe thead th {\n",
              "        text-align: right;\n",
              "    }\n",
              "</style>\n",
              "<table border=\"1\" class=\"dataframe\">\n",
              "  <thead>\n",
              "    <tr style=\"text-align: right;\">\n",
              "      <th></th>\n",
              "      <th>X</th>\n",
              "      <th>Y</th>\n",
              "      <th>OBJECTID</th>\n",
              "      <th>RADICADO</th>\n",
              "      <th>DIA</th>\n",
              "      <th>PERIODO</th>\n",
              "      <th>DIA_SEMANA</th>\n",
              "      <th>MES</th>\n",
              "      <th>NUM_COMUNA</th>\n",
              "      <th>NUM_GRAVEDAD</th>\n",
              "      <th>NUM_DISENO</th>\n",
              "      <th>NUM_CLASE</th>\n",
              "      <th>NUM_BARRIO</th>\n",
              "    </tr>\n",
              "  </thead>\n",
              "  <tbody>\n",
              "    <tr>\n",
              "      <th>47037</th>\n",
              "      <td>-75.561683</td>\n",
              "      <td>6.187013</td>\n",
              "      <td>719344.0</td>\n",
              "      <td>1671709.0</td>\n",
              "      <td>22.0</td>\n",
              "      <td>2019.0</td>\n",
              "      <td>6.0</td>\n",
              "      <td>5.0</td>\n",
              "      <td>9.0</td>\n",
              "      <td>0.0</td>\n",
              "      <td>1.0</td>\n",
              "      <td>0.0</td>\n",
              "      <td>213.0</td>\n",
              "    </tr>\n",
              "    <tr>\n",
              "      <th>16738</th>\n",
              "      <td>-75.575254</td>\n",
              "      <td>6.246314</td>\n",
              "      <td>661983.0</td>\n",
              "      <td>1631429.0</td>\n",
              "      <td>16.0</td>\n",
              "      <td>2018.0</td>\n",
              "      <td>4.0</td>\n",
              "      <td>6.0</td>\n",
              "      <td>2.0</td>\n",
              "      <td>1.0</td>\n",
              "      <td>1.0</td>\n",
              "      <td>0.0</td>\n",
              "      <td>29.0</td>\n",
              "    </tr>\n",
              "    <tr>\n",
              "      <th>58905</th>\n",
              "      <td>-75.564115</td>\n",
              "      <td>6.215593</td>\n",
              "      <td>731409.0</td>\n",
              "      <td>1679647.0</td>\n",
              "      <td>25.0</td>\n",
              "      <td>2019.0</td>\n",
              "      <td>2.0</td>\n",
              "      <td>7.0</td>\n",
              "      <td>9.0</td>\n",
              "      <td>0.0</td>\n",
              "      <td>1.0</td>\n",
              "      <td>0.0</td>\n",
              "      <td>19.0</td>\n",
              "    </tr>\n",
              "    <tr>\n",
              "      <th>47924</th>\n",
              "      <td>-75.544441</td>\n",
              "      <td>6.288942</td>\n",
              "      <td>720298.0</td>\n",
              "      <td>1676273.0</td>\n",
              "      <td>29.0</td>\n",
              "      <td>2019.0</td>\n",
              "      <td>4.0</td>\n",
              "      <td>6.0</td>\n",
              "      <td>13.0</td>\n",
              "      <td>0.0</td>\n",
              "      <td>1.0</td>\n",
              "      <td>3.0</td>\n",
              "      <td>278.0</td>\n",
              "    </tr>\n",
              "    <tr>\n",
              "      <th>30698</th>\n",
              "      <td>-75.587009</td>\n",
              "      <td>6.266808</td>\n",
              "      <td>677521.0</td>\n",
              "      <td>1649575.0</td>\n",
              "      <td>14.0</td>\n",
              "      <td>2018.0</td>\n",
              "      <td>6.0</td>\n",
              "      <td>11.0</td>\n",
              "      <td>12.0</td>\n",
              "      <td>1.0</td>\n",
              "      <td>1.0</td>\n",
              "      <td>0.0</td>\n",
              "      <td>169.0</td>\n",
              "    </tr>\n",
              "    <tr>\n",
              "      <th>...</th>\n",
              "      <td>...</td>\n",
              "      <td>...</td>\n",
              "      <td>...</td>\n",
              "      <td>...</td>\n",
              "      <td>...</td>\n",
              "      <td>...</td>\n",
              "      <td>...</td>\n",
              "      <td>...</td>\n",
              "      <td>...</td>\n",
              "      <td>...</td>\n",
              "      <td>...</td>\n",
              "      <td>...</td>\n",
              "      <td>...</td>\n",
              "    </tr>\n",
              "    <tr>\n",
              "      <th>70908</th>\n",
              "      <td>-75.575037</td>\n",
              "      <td>6.250175</td>\n",
              "      <td>741800.0</td>\n",
              "      <td>1680479.0</td>\n",
              "      <td>31.0</td>\n",
              "      <td>2019.0</td>\n",
              "      <td>6.0</td>\n",
              "      <td>7.0</td>\n",
              "      <td>2.0</td>\n",
              "      <td>1.0</td>\n",
              "      <td>0.0</td>\n",
              "      <td>0.0</td>\n",
              "      <td>101.0</td>\n",
              "    </tr>\n",
              "    <tr>\n",
              "      <th>54811</th>\n",
              "      <td>-75.573364</td>\n",
              "      <td>6.276299</td>\n",
              "      <td>726745.0</td>\n",
              "      <td>1655545.0</td>\n",
              "      <td>2.0</td>\n",
              "      <td>2019.0</td>\n",
              "      <td>6.0</td>\n",
              "      <td>1.0</td>\n",
              "      <td>7.0</td>\n",
              "      <td>0.0</td>\n",
              "      <td>1.0</td>\n",
              "      <td>0.0</td>\n",
              "      <td>65.0</td>\n",
              "    </tr>\n",
              "    <tr>\n",
              "      <th>55061</th>\n",
              "      <td>-75.566134</td>\n",
              "      <td>6.220604</td>\n",
              "      <td>712011.0</td>\n",
              "      <td>1663903.0</td>\n",
              "      <td>14.0</td>\n",
              "      <td>2019.0</td>\n",
              "      <td>2.0</td>\n",
              "      <td>3.0</td>\n",
              "      <td>9.0</td>\n",
              "      <td>1.0</td>\n",
              "      <td>2.0</td>\n",
              "      <td>0.0</td>\n",
              "      <td>19.0</td>\n",
              "    </tr>\n",
              "    <tr>\n",
              "      <th>5262</th>\n",
              "      <td>-75.585887</td>\n",
              "      <td>6.248935</td>\n",
              "      <td>550223.0</td>\n",
              "      <td>1612534.0</td>\n",
              "      <td>4.0</td>\n",
              "      <td>2018.0</td>\n",
              "      <td>2.0</td>\n",
              "      <td>1.0</td>\n",
              "      <td>0.0</td>\n",
              "      <td>1.0</td>\n",
              "      <td>1.0</td>\n",
              "      <td>0.0</td>\n",
              "      <td>27.0</td>\n",
              "    </tr>\n",
              "    <tr>\n",
              "      <th>5218</th>\n",
              "      <td>-75.563572</td>\n",
              "      <td>6.293681</td>\n",
              "      <td>550177.0</td>\n",
              "      <td>1612452.0</td>\n",
              "      <td>10.0</td>\n",
              "      <td>2018.0</td>\n",
              "      <td>6.0</td>\n",
              "      <td>1.0</td>\n",
              "      <td>7.0</td>\n",
              "      <td>1.0</td>\n",
              "      <td>1.0</td>\n",
              "      <td>0.0</td>\n",
              "      <td>112.0</td>\n",
              "    </tr>\n",
              "  </tbody>\n",
              "</table>\n",
              "<p>150 rows × 13 columns</p>\n",
              "</div>"
            ],
            "text/plain": [
              "               X         Y  OBJECTID  ...  NUM_DISENO  NUM_CLASE  NUM_BARRIO\n",
              "47037 -75.561683  6.187013  719344.0  ...         1.0        0.0       213.0\n",
              "16738 -75.575254  6.246314  661983.0  ...         1.0        0.0        29.0\n",
              "58905 -75.564115  6.215593  731409.0  ...         1.0        0.0        19.0\n",
              "47924 -75.544441  6.288942  720298.0  ...         1.0        3.0       278.0\n",
              "30698 -75.587009  6.266808  677521.0  ...         1.0        0.0       169.0\n",
              "...          ...       ...       ...  ...         ...        ...         ...\n",
              "70908 -75.575037  6.250175  741800.0  ...         0.0        0.0       101.0\n",
              "54811 -75.573364  6.276299  726745.0  ...         1.0        0.0        65.0\n",
              "55061 -75.566134  6.220604  712011.0  ...         2.0        0.0        19.0\n",
              "5262  -75.585887  6.248935  550223.0  ...         1.0        0.0        27.0\n",
              "5218  -75.563572  6.293681  550177.0  ...         1.0        0.0       112.0\n",
              "\n",
              "[150 rows x 13 columns]"
            ]
          },
          "metadata": {},
          "execution_count": 45
        }
      ]
    },
    {
      "cell_type": "code",
      "metadata": {
        "colab": {
          "base_uri": "https://localhost:8080/"
        },
        "id": "YrfmPggP5BB3",
        "outputId": "d080ce83-d8fd-4bc0-a4b5-02aeeb6e1089"
      },
      "source": [
        "submuestra.shape"
      ],
      "execution_count": null,
      "outputs": [
        {
          "output_type": "execute_result",
          "data": {
            "text/plain": [
              "(200, 13)"
            ]
          },
          "metadata": {},
          "execution_count": 41
        }
      ]
    },
    {
      "cell_type": "markdown",
      "metadata": {
        "id": "bYPsdqzsplK5"
      },
      "source": [
        "# **Regresion lineal**"
      ]
    },
    {
      "cell_type": "code",
      "metadata": {
        "id": "-GGbIA485C-P"
      },
      "source": [
        "def estimate_bo_b1(x, y):\n",
        "    \n",
        "    n = np.size(x)\n",
        "    \n",
        "    m_x, m_y = np.mean(x), np.mean(y)\n",
        "    \n",
        "    Sumatoria_xy = np.sum((x-m_x)*(y-m_y))\n",
        "    Sumatoria_xx = np.sum(x*(x-m_x))\n",
        "\n",
        "    b_1 = Sumatoria_xy / Sumatoria_xx\n",
        "    b_0 = m_y - b_1*m_x\n",
        "    \n",
        "    return (b_0 , b_1)"
      ],
      "execution_count": null,
      "outputs": []
    },
    {
      "cell_type": "code",
      "metadata": {
        "id": "UvTYs2ie5EZX"
      },
      "source": [
        "def plot_regression(x,y,b):\n",
        "    plt.scatter(x , y , color = 'green', marker = 'o', s=30 )\n",
        "    \n",
        "    y_pred= b[0] + b[1]*x\n",
        "    plt.plot(x, y_pred, color = 'blue',label='sin')\n",
        "    \n",
        "    plt.xlabel('Meses del año')\n",
        "    plt.ylabel('Gravedad de accidente')\n",
        "    plt.grid()\n",
        "\n",
        "    plt.title('Gravedad con respecto a los meses del año')\n",
        " \n",
        "    \n",
        "    plt.show()"
      ],
      "execution_count": null,
      "outputs": []
    },
    {
      "cell_type": "code",
      "metadata": {
        "colab": {
          "base_uri": "https://localhost:8080/",
          "height": 312
        },
        "id": "L4BtHxlF5IV3",
        "outputId": "b5c5a07c-cbba-4290-827d-1521c68f24f3"
      },
      "source": [
        "def main():\n",
        "    \n",
        "    x = submuestra['MES']\n",
        "    y = submuestra['NUM_GRAVEDAD']\n",
        "    \n",
        "    b = estimate_bo_b1(x,y)\n",
        "    print(f'Los valores b0 = {b[0]}, b1 ={b[1]}')\n",
        "    \n",
        "    plot_regression(x, y, b)\n",
        "    \n",
        "main()"
      ],
      "execution_count": null,
      "outputs": [
        {
          "output_type": "stream",
          "name": "stdout",
          "text": [
            "Los valores b0 = 0.28657071920227695, b1 =0.02489856886215458\n"
          ]
        },
        {
          "output_type": "display_data",
          "data": {
            "image/png": "[encoded data removed]",
            "text/plain": [
              "<Figure size 432x288 with 1 Axes>"
            ]
          },
          "metadata": {
            "needs_background": "light"
          }
        }
      ]
    },
    {
      "cell_type": "markdown",
      "metadata": {
        "id": "BL8X6c4Tpfg6"
      },
      "source": [
        "# **Forest Regressor**"
      ]
    },
    {
      "cell_type": "code",
      "metadata": {
        "id": "eFXAYCUzASYX"
      },
      "source": [
        "from sklearn.model_selection import train_test_split\n",
        "\n",
        "X = pd.read_csv(\"X.csv\")\n",
        "y = X['NUM_GRAVEDAD']\n",
        "X = X.drop(['NUM_GRAVEDAD','X',\t'Y'],axis=1)"
      ],
      "execution_count": null,
      "outputs": []
    },
    {
      "cell_type": "code",
      "metadata": {
        "id": "a3k2sKRVAL-K"
      },
      "source": [
        "from sklearn.ensemble import RandomForestRegressor\n",
        "from sklearn.model_selection import cross_validate\n",
        "\n",
        "forest = RandomForestRegressor()\n",
        "results = cross_validate(forest,X,y,cv=5,scoring='r2',return_train_score=True)"
      ],
      "execution_count": null,
      "outputs": []
    },
    {
      "cell_type": "code",
      "metadata": {
        "colab": {
          "base_uri": "https://localhost:8080/"
        },
        "id": "lvj-Q9ewAWOI",
        "outputId": "733d7850-4286-4504-c981-741c5800c103"
      },
      "source": [
        "test_scores = results['test_score']\n",
        "train_scores = results['train_score']\n",
        "print(np.mean(train_scores))\n",
        "print(np.mean(test_scores))"
      ],
      "execution_count": null,
      "outputs": [
        {
          "output_type": "stream",
          "name": "stdout",
          "text": [
            "0.9112967600290693\n",
            "0.2389616768500606\n"
          ]
        }
      ]
    },
    {
      "cell_type": "markdown",
      "metadata": {
        "id": "jSJuHsiNrcRx"
      },
      "source": [
        "Gran diferencia entre el valor de prueba y el valor de entrenamiento (overfitting)"
      ]
    },
    {
      "cell_type": "markdown",
      "metadata": {
        "id": "_XTEr8YFpsyp"
      },
      "source": [
        "# **Naive bayes**"
      ]
    },
    {
      "cell_type": "code",
      "metadata": {
        "id": "YgbibjCXpw6J"
      },
      "source": [
        "df = pd.read_csv('X.csv')\n",
        "obj = pd.read_csv('accidentes_obj.csv')"
      ],
      "execution_count": null,
      "outputs": []
    },
    {
      "cell_type": "code",
      "metadata": {
        "id": "93U8MVK0swyx"
      },
      "source": [
        "df = df.drop(['NUM_GRAVEDAD'],axis=1)\n",
        "y = obj.drop(['FECHA',\t'HORA',\t'CLASE',\t'DIRECCION',\t'DIRECCION_ENC','CBML','TIPO_GEOCOD',\t'BARRIO',\t'COMUNA',\t'DISENO',\t'MES_NOMBRE'], axis = 1)"
      ],
      "execution_count": null,
      "outputs": []
    },
    {
      "cell_type": "code",
      "metadata": {
        "id": "4Y6_1ekls_BD"
      },
      "source": [
        "df['clasificacion'] = y['GRAVEDAD']"
      ],
      "execution_count": null,
      "outputs": []
    },
    {
      "cell_type": "code",
      "metadata": {
        "colab": {
          "base_uri": "https://localhost:8080/"
        },
        "id": "9LvLj5vhtDBS",
        "outputId": "d74aea55-cf60-48ef-b7d5-463d067460ee"
      },
      "source": [
        "trainRandom = np.random.rand(len(df))< 0.8\n",
        "train= df[trainRandom]\n",
        "test = df[~trainRandom]\n",
        "features = df.columns[:12]\n",
        "features"
      ],
      "execution_count": null,
      "outputs": [
        {
          "output_type": "execute_result",
          "data": {
            "text/plain": [
              "Index(['X', 'Y', 'OBJECTID', 'RADICADO', 'DIA', 'PERIODO', 'DIA_SEMANA', 'MES',\n",
              "       'NUM_COMUNA', 'NUM_DISENO', 'NUM_CLASE', 'NUM_BARRIO'],\n",
              "      dtype='object')"
            ]
          },
          "metadata": {},
          "execution_count": 7
        }
      ]
    },
    {
      "cell_type": "code",
      "metadata": {
        "id": "wJ42gV1CtRz7"
      },
      "source": [
        "y_ = pd.factorize(train['clasificacion'])[0]\n",
        "p = pd.DataFrame({\"clase\":y_})"
      ],
      "execution_count": null,
      "outputs": []
    },
    {
      "cell_type": "code",
      "metadata": {
        "id": "tWlFSPcatXlR"
      },
      "source": [
        "clf = GaussianNB()"
      ],
      "execution_count": null,
      "outputs": []
    },
    {
      "cell_type": "code",
      "metadata": {
        "colab": {
          "base_uri": "https://localhost:8080/"
        },
        "id": "i0N7jvsntZT5",
        "outputId": "0df82c11-68ba-492d-8984-a3391e8c9d7e"
      },
      "source": [
        "clf.fit(train[features], y_)"
      ],
      "execution_count": null,
      "outputs": [
        {
          "output_type": "execute_result",
          "data": {
            "text/plain": [
              "GaussianNB(priors=None, var_smoothing=1e-09)"
            ]
          },
          "metadata": {},
          "execution_count": 10
        }
      ]
    },
    {
      "cell_type": "code",
      "metadata": {
        "colab": {
          "base_uri": "https://localhost:8080/"
        },
        "id": "npb2evBRtcDL",
        "outputId": "2828e0d3-2a1a-4309-fbb5-7616258e2c1d"
      },
      "source": [
        "clf.predict(test[features])"
      ],
      "execution_count": null,
      "outputs": [
        {
          "output_type": "execute_result",
          "data": {
            "text/plain": [
              "array([0, 1, 1, ..., 0, 1, 0])"
            ]
          },
          "metadata": {},
          "execution_count": 11
        }
      ]
    },
    {
      "cell_type": "code",
      "metadata": {
        "id": "KgNYpCxutl2y"
      },
      "source": [
        "preds = df.clasificacion[clf.predict(test[features])]\n",
        "preds = np.array(preds[0:len(test)])"
      ],
      "execution_count": null,
      "outputs": []
    },
    {
      "cell_type": "code",
      "metadata": {
        "colab": {
          "base_uri": "https://localhost:8080/"
        },
        "id": "KO-n17latuQq",
        "outputId": "f9d1ffb1-9a59-49ed-c469-c47116787e9a"
      },
      "source": [
        "from sklearn.metrics import accuracy_score\n",
        "precision = accuracy_score(test['clasificacion'], preds)\n",
        "print('Precisión del modelo:\\n',precision)"
      ],
      "execution_count": null,
      "outputs": [
        {
          "output_type": "stream",
          "name": "stdout",
          "text": [
            "Precisión del modelo:\n",
            " 0.6947464403450936\n"
          ]
        }
      ]
    },
    {
      "cell_type": "markdown",
      "metadata": {
        "id": "KTHowxRhlyQa"
      },
      "source": [
        "# **K-Means**"
      ]
    },
    {
      "cell_type": "code",
      "metadata": {
        "id": "hExzDd9Jm2Jp"
      },
      "source": [
        "df_accidentes = pd.read_csv(\"Kmeans.csv\")"
      ],
      "execution_count": null,
      "outputs": []
    },
    {
      "cell_type": "code",
      "metadata": {
        "colab": {
          "base_uri": "https://localhost:8080/",
          "height": 204
        },
        "id": "F_ScPYj2m8Ga",
        "outputId": "d75aea80-f39d-4a7a-e1a0-d26f7c3db6c0"
      },
      "source": [
        "df_accidentes.head(5)"
      ],
      "execution_count": null,
      "outputs": [
        {
          "output_type": "execute_result",
          "data": {
            "text/html": [
              "<div>\n",
              "<style scoped>\n",
              "    .dataframe tbody tr th:only-of-type {\n",
              "        vertical-align: middle;\n",
              "    }\n",
              "\n",
              "    .dataframe tbody tr th {\n",
              "        vertical-align: top;\n",
              "    }\n",
              "\n",
              "    .dataframe thead th {\n",
              "        text-align: right;\n",
              "    }\n",
              "</style>\n",
              "<table border=\"1\" class=\"dataframe\">\n",
              "  <thead>\n",
              "    <tr style=\"text-align: right;\">\n",
              "      <th></th>\n",
              "      <th>X</th>\n",
              "      <th>Y</th>\n",
              "      <th>OBJECTID</th>\n",
              "      <th>RADICADO</th>\n",
              "      <th>DIA</th>\n",
              "      <th>PERIODO</th>\n",
              "      <th>DIA_SEMANA</th>\n",
              "      <th>MES</th>\n",
              "      <th>NUM_COMUNA</th>\n",
              "      <th>NUM_GRAVEDAD</th>\n",
              "      <th>NUM_DISENO</th>\n",
              "      <th>NUM_CLASE</th>\n",
              "      <th>NUM_BARRIO</th>\n",
              "    </tr>\n",
              "  </thead>\n",
              "  <tbody>\n",
              "    <tr>\n",
              "      <th>0</th>\n",
              "      <td>-75.584608</td>\n",
              "      <td>6.261152</td>\n",
              "      <td>550556.0</td>\n",
              "      <td>1612819.0</td>\n",
              "      <td>14.0</td>\n",
              "      <td>2018.0</td>\n",
              "      <td>0.0</td>\n",
              "      <td>1.0</td>\n",
              "      <td>0.0</td>\n",
              "      <td>0.0</td>\n",
              "      <td>0.0</td>\n",
              "      <td>0.0</td>\n",
              "      <td>0.0</td>\n",
              "    </tr>\n",
              "    <tr>\n",
              "      <th>1</th>\n",
              "      <td>-75.582266</td>\n",
              "      <td>6.293102</td>\n",
              "      <td>550557.0</td>\n",
              "      <td>1612866.0</td>\n",
              "      <td>14.0</td>\n",
              "      <td>2018.0</td>\n",
              "      <td>0.0</td>\n",
              "      <td>1.0</td>\n",
              "      <td>1.0</td>\n",
              "      <td>1.0</td>\n",
              "      <td>1.0</td>\n",
              "      <td>0.0</td>\n",
              "      <td>1.0</td>\n",
              "    </tr>\n",
              "    <tr>\n",
              "      <th>2</th>\n",
              "      <td>-75.560337</td>\n",
              "      <td>6.252080</td>\n",
              "      <td>550558.0</td>\n",
              "      <td>1612809.0</td>\n",
              "      <td>14.0</td>\n",
              "      <td>2018.0</td>\n",
              "      <td>0.0</td>\n",
              "      <td>1.0</td>\n",
              "      <td>2.0</td>\n",
              "      <td>0.0</td>\n",
              "      <td>1.0</td>\n",
              "      <td>1.0</td>\n",
              "      <td>2.0</td>\n",
              "    </tr>\n",
              "    <tr>\n",
              "      <th>3</th>\n",
              "      <td>-75.597828</td>\n",
              "      <td>6.222382</td>\n",
              "      <td>550559.0</td>\n",
              "      <td>1612812.0</td>\n",
              "      <td>14.0</td>\n",
              "      <td>2018.0</td>\n",
              "      <td>0.0</td>\n",
              "      <td>1.0</td>\n",
              "      <td>3.0</td>\n",
              "      <td>0.0</td>\n",
              "      <td>0.0</td>\n",
              "      <td>2.0</td>\n",
              "      <td>3.0</td>\n",
              "    </tr>\n",
              "    <tr>\n",
              "      <th>4</th>\n",
              "      <td>-75.561804</td>\n",
              "      <td>6.236754</td>\n",
              "      <td>550560.0</td>\n",
              "      <td>1612817.0</td>\n",
              "      <td>14.0</td>\n",
              "      <td>2018.0</td>\n",
              "      <td>0.0</td>\n",
              "      <td>1.0</td>\n",
              "      <td>4.0</td>\n",
              "      <td>1.0</td>\n",
              "      <td>1.0</td>\n",
              "      <td>0.0</td>\n",
              "      <td>4.0</td>\n",
              "    </tr>\n",
              "  </tbody>\n",
              "</table>\n",
              "</div>"
            ],
            "text/plain": [
              "           X         Y  OBJECTID  ...  NUM_DISENO  NUM_CLASE  NUM_BARRIO\n",
              "0 -75.584608  6.261152  550556.0  ...         0.0        0.0         0.0\n",
              "1 -75.582266  6.293102  550557.0  ...         1.0        0.0         1.0\n",
              "2 -75.560337  6.252080  550558.0  ...         1.0        1.0         2.0\n",
              "3 -75.597828  6.222382  550559.0  ...         0.0        2.0         3.0\n",
              "4 -75.561804  6.236754  550560.0  ...         1.0        0.0         4.0\n",
              "\n",
              "[5 rows x 13 columns]"
            ]
          },
          "metadata": {},
          "execution_count": 4
        }
      ]
    },
    {
      "cell_type": "code",
      "metadata": {
        "colab": {
          "base_uri": "https://localhost:8080/"
        },
        "id": "KkNGgUAApYjB",
        "outputId": "4bb20c91-335d-4978-d4a8-8c3fb33f49e2"
      },
      "source": [
        "kmeans = KMeans(n_clusters=2).fit(df_accidentes)\n",
        "print(f'Total de centros {len(kmeans.cluster_centers_)}')\n",
        "print(f'Arreglo con la longitud {kmeans.predict(df_accidentes)}')"
      ],
      "execution_count": null,
      "outputs": [
        {
          "output_type": "stream",
          "name": "stdout",
          "text": [
            "Total de centros 2\n",
            "Arreglo con la longitud [1 1 1 ... 0 0 0]\n"
          ]
        }
      ]
    },
    {
      "cell_type": "code",
      "metadata": {
        "colab": {
          "base_uri": "https://localhost:8080/",
          "height": 359
        },
        "id": "4wR-SDF0pbqh",
        "outputId": "aeb61109-e257-45cb-c45f-cc19978913b2"
      },
      "source": [
        "df_accidentes['group'] = kmeans.predict(df_accidentes)\n",
        "df_accidentes.head(10)"
      ],
      "execution_count": null,
      "outputs": [
        {
          "output_type": "execute_result",
          "data": {
            "text/html": [
              "<div>\n",
              "<style scoped>\n",
              "    .dataframe tbody tr th:only-of-type {\n",
              "        vertical-align: middle;\n",
              "    }\n",
              "\n",
              "    .dataframe tbody tr th {\n",
              "        vertical-align: top;\n",
              "    }\n",
              "\n",
              "    .dataframe thead th {\n",
              "        text-align: right;\n",
              "    }\n",
              "</style>\n",
              "<table border=\"1\" class=\"dataframe\">\n",
              "  <thead>\n",
              "    <tr style=\"text-align: right;\">\n",
              "      <th></th>\n",
              "      <th>X</th>\n",
              "      <th>Y</th>\n",
              "      <th>OBJECTID</th>\n",
              "      <th>RADICADO</th>\n",
              "      <th>DIA</th>\n",
              "      <th>PERIODO</th>\n",
              "      <th>DIA_SEMANA</th>\n",
              "      <th>MES</th>\n",
              "      <th>NUM_COMUNA</th>\n",
              "      <th>NUM_GRAVEDAD</th>\n",
              "      <th>NUM_DISENO</th>\n",
              "      <th>NUM_CLASE</th>\n",
              "      <th>NUM_BARRIO</th>\n",
              "      <th>group</th>\n",
              "    </tr>\n",
              "  </thead>\n",
              "  <tbody>\n",
              "    <tr>\n",
              "      <th>0</th>\n",
              "      <td>-75.584608</td>\n",
              "      <td>6.261152</td>\n",
              "      <td>550556.0</td>\n",
              "      <td>1612819.0</td>\n",
              "      <td>14.0</td>\n",
              "      <td>2018.0</td>\n",
              "      <td>0.0</td>\n",
              "      <td>1.0</td>\n",
              "      <td>0.0</td>\n",
              "      <td>0.0</td>\n",
              "      <td>0.0</td>\n",
              "      <td>0.0</td>\n",
              "      <td>0.0</td>\n",
              "      <td>1</td>\n",
              "    </tr>\n",
              "    <tr>\n",
              "      <th>1</th>\n",
              "      <td>-75.582266</td>\n",
              "      <td>6.293102</td>\n",
              "      <td>550557.0</td>\n",
              "      <td>1612866.0</td>\n",
              "      <td>14.0</td>\n",
              "      <td>2018.0</td>\n",
              "      <td>0.0</td>\n",
              "      <td>1.0</td>\n",
              "      <td>1.0</td>\n",
              "      <td>1.0</td>\n",
              "      <td>1.0</td>\n",
              "      <td>0.0</td>\n",
              "      <td>1.0</td>\n",
              "      <td>1</td>\n",
              "    </tr>\n",
              "    <tr>\n",
              "      <th>2</th>\n",
              "      <td>-75.560337</td>\n",
              "      <td>6.252080</td>\n",
              "      <td>550558.0</td>\n",
              "      <td>1612809.0</td>\n",
              "      <td>14.0</td>\n",
              "      <td>2018.0</td>\n",
              "      <td>0.0</td>\n",
              "      <td>1.0</td>\n",
              "      <td>2.0</td>\n",
              "      <td>0.0</td>\n",
              "      <td>1.0</td>\n",
              "      <td>1.0</td>\n",
              "      <td>2.0</td>\n",
              "      <td>1</td>\n",
              "    </tr>\n",
              "    <tr>\n",
              "      <th>3</th>\n",
              "      <td>-75.597828</td>\n",
              "      <td>6.222382</td>\n",
              "      <td>550559.0</td>\n",
              "      <td>1612812.0</td>\n",
              "      <td>14.0</td>\n",
              "      <td>2018.0</td>\n",
              "      <td>0.0</td>\n",
              "      <td>1.0</td>\n",
              "      <td>3.0</td>\n",
              "      <td>0.0</td>\n",
              "      <td>0.0</td>\n",
              "      <td>2.0</td>\n",
              "      <td>3.0</td>\n",
              "      <td>1</td>\n",
              "    </tr>\n",
              "    <tr>\n",
              "      <th>4</th>\n",
              "      <td>-75.561804</td>\n",
              "      <td>6.236754</td>\n",
              "      <td>550560.0</td>\n",
              "      <td>1612817.0</td>\n",
              "      <td>14.0</td>\n",
              "      <td>2018.0</td>\n",
              "      <td>0.0</td>\n",
              "      <td>1.0</td>\n",
              "      <td>4.0</td>\n",
              "      <td>1.0</td>\n",
              "      <td>1.0</td>\n",
              "      <td>0.0</td>\n",
              "      <td>4.0</td>\n",
              "      <td>1</td>\n",
              "    </tr>\n",
              "    <tr>\n",
              "      <th>5</th>\n",
              "      <td>-75.554249</td>\n",
              "      <td>6.262941</td>\n",
              "      <td>550562.0</td>\n",
              "      <td>1612856.0</td>\n",
              "      <td>14.0</td>\n",
              "      <td>2018.0</td>\n",
              "      <td>0.0</td>\n",
              "      <td>1.0</td>\n",
              "      <td>5.0</td>\n",
              "      <td>0.0</td>\n",
              "      <td>1.0</td>\n",
              "      <td>3.0</td>\n",
              "      <td>5.0</td>\n",
              "      <td>1</td>\n",
              "    </tr>\n",
              "    <tr>\n",
              "      <th>6</th>\n",
              "      <td>-75.591549</td>\n",
              "      <td>6.244591</td>\n",
              "      <td>550563.0</td>\n",
              "      <td>1612823.0</td>\n",
              "      <td>14.0</td>\n",
              "      <td>2018.0</td>\n",
              "      <td>0.0</td>\n",
              "      <td>1.0</td>\n",
              "      <td>0.0</td>\n",
              "      <td>1.0</td>\n",
              "      <td>0.0</td>\n",
              "      <td>0.0</td>\n",
              "      <td>6.0</td>\n",
              "      <td>1</td>\n",
              "    </tr>\n",
              "    <tr>\n",
              "      <th>7</th>\n",
              "      <td>-75.572067</td>\n",
              "      <td>6.234996</td>\n",
              "      <td>550564.0</td>\n",
              "      <td>1612825.0</td>\n",
              "      <td>14.0</td>\n",
              "      <td>2018.0</td>\n",
              "      <td>0.0</td>\n",
              "      <td>1.0</td>\n",
              "      <td>2.0</td>\n",
              "      <td>1.0</td>\n",
              "      <td>2.0</td>\n",
              "      <td>0.0</td>\n",
              "      <td>7.0</td>\n",
              "      <td>1</td>\n",
              "    </tr>\n",
              "    <tr>\n",
              "      <th>8</th>\n",
              "      <td>-75.599717</td>\n",
              "      <td>6.250105</td>\n",
              "      <td>550565.0</td>\n",
              "      <td>1612850.0</td>\n",
              "      <td>14.0</td>\n",
              "      <td>2018.0</td>\n",
              "      <td>0.0</td>\n",
              "      <td>1.0</td>\n",
              "      <td>6.0</td>\n",
              "      <td>1.0</td>\n",
              "      <td>1.0</td>\n",
              "      <td>0.0</td>\n",
              "      <td>8.0</td>\n",
              "      <td>1</td>\n",
              "    </tr>\n",
              "    <tr>\n",
              "      <th>9</th>\n",
              "      <td>-75.578964</td>\n",
              "      <td>6.288339</td>\n",
              "      <td>550566.0</td>\n",
              "      <td>1612815.0</td>\n",
              "      <td>14.0</td>\n",
              "      <td>2018.0</td>\n",
              "      <td>0.0</td>\n",
              "      <td>1.0</td>\n",
              "      <td>1.0</td>\n",
              "      <td>0.0</td>\n",
              "      <td>0.0</td>\n",
              "      <td>1.0</td>\n",
              "      <td>9.0</td>\n",
              "      <td>1</td>\n",
              "    </tr>\n",
              "  </tbody>\n",
              "</table>\n",
              "</div>"
            ],
            "text/plain": [
              "           X         Y  OBJECTID  ...  NUM_CLASE  NUM_BARRIO  group\n",
              "0 -75.584608  6.261152  550556.0  ...        0.0         0.0      1\n",
              "1 -75.582266  6.293102  550557.0  ...        0.0         1.0      1\n",
              "2 -75.560337  6.252080  550558.0  ...        1.0         2.0      1\n",
              "3 -75.597828  6.222382  550559.0  ...        2.0         3.0      1\n",
              "4 -75.561804  6.236754  550560.0  ...        0.0         4.0      1\n",
              "5 -75.554249  6.262941  550562.0  ...        3.0         5.0      1\n",
              "6 -75.591549  6.244591  550563.0  ...        0.0         6.0      1\n",
              "7 -75.572067  6.234996  550564.0  ...        0.0         7.0      1\n",
              "8 -75.599717  6.250105  550565.0  ...        0.0         8.0      1\n",
              "9 -75.578964  6.288339  550566.0  ...        1.0         9.0      1\n",
              "\n",
              "[10 rows x 14 columns]"
            ]
          },
          "metadata": {},
          "execution_count": 7
        }
      ]
    },
    {
      "cell_type": "markdown",
      "metadata": {
        "id": "B--w3r3IqFAZ"
      },
      "source": [
        "# **Clasificación de caracteristicas**"
      ]
    },
    {
      "cell_type": "code",
      "metadata": {
        "id": "JD5q7GYwqJ4g"
      },
      "source": [
        "df = pd.read_csv('X.csv')\n",
        "obj = pd.read_csv('accidentes_obj.csv')"
      ],
      "execution_count": null,
      "outputs": []
    },
    {
      "cell_type": "code",
      "metadata": {
        "colab": {
          "base_uri": "https://localhost:8080/"
        },
        "id": "17poQQR-qWCL",
        "outputId": "b2cc1005-4cc3-4a49-eccc-74a4a757d3a7"
      },
      "source": [
        "df = df.drop(['NUM_GRAVEDAD'],axis=1)\n",
        "y = obj.drop(['FECHA',\t'HORA',\t'CLASE',\t'DIRECCION',\t'DIRECCION_ENC','CBML','TIPO_GEOCOD',\t'BARRIO',\t'COMUNA',\t'DISENO',\t'MES_NOMBRE'], axis = 1)\n",
        "df['clasification'] = y['GRAVEDAD']\n",
        "print(df['clasification'].unique())"
      ],
      "execution_count": null,
      "outputs": [
        {
          "output_type": "stream",
          "name": "stdout",
          "text": [
            "['HERIDO' 'SOLO DAÑOS' 'MUERTO']\n"
          ]
        }
      ]
    },
    {
      "cell_type": "code",
      "metadata": {
        "id": "gMPES7iMqiBJ"
      },
      "source": [
        "trainRandom = np.random.rand(len(df))< 0.8\n",
        "train= df[trainRandom]\n",
        "test = df[~trainRandom]"
      ],
      "execution_count": null,
      "outputs": []
    },
    {
      "cell_type": "code",
      "metadata": {
        "colab": {
          "base_uri": "https://localhost:8080/"
        },
        "id": "asFlKx8yqopf",
        "outputId": "61c13726-3b0e-47f1-aa22-355163708cf6"
      },
      "source": [
        "features = df.columns[:12]\n",
        "df.clasification.value_counts()"
      ],
      "execution_count": null,
      "outputs": [
        {
          "output_type": "execute_result",
          "data": {
            "text/plain": [
              "HERIDO        37357\n",
              "SOLO DAÑOS    33326\n",
              "MUERTO          236\n",
              "Name: clasification, dtype: int64"
            ]
          },
          "metadata": {},
          "execution_count": 8
        }
      ]
    },
    {
      "cell_type": "code",
      "metadata": {
        "colab": {
          "base_uri": "https://localhost:8080/"
        },
        "id": "Y-p1VWluqxju",
        "outputId": "167fc90f-8bc0-474d-d69e-21464fd5bf84"
      },
      "source": [
        "y_ = pd.factorize(train['clasification'])[0]\n",
        "p = pd.DataFrame({\"clase\":y_})\n",
        "p['clase'].value_counts()"
      ],
      "execution_count": null,
      "outputs": [
        {
          "output_type": "execute_result",
          "data": {
            "text/plain": [
              "1    29972\n",
              "0    26629\n",
              "2      195\n",
              "Name: clase, dtype: int64"
            ]
          },
          "metadata": {},
          "execution_count": 9
        }
      ]
    },
    {
      "cell_type": "code",
      "metadata": {
        "colab": {
          "base_uri": "https://localhost:8080/"
        },
        "id": "7NPuhgAwq3yc",
        "outputId": "5206742e-0f05-44b7-a386-6d525be1e517"
      },
      "source": [
        "clf = RandomForestClassifier(n_jobs=5, random_state=1)\n",
        "clf.fit(train[features], y_)\n",
        "clf.predict(test[features])"
      ],
      "execution_count": null,
      "outputs": [
        {
          "output_type": "execute_result",
          "data": {
            "text/plain": [
              "array([0, 1, 0, ..., 0, 0, 1])"
            ]
          },
          "metadata": {},
          "execution_count": 10
        }
      ]
    },
    {
      "cell_type": "code",
      "metadata": {
        "id": "x9iur6NUq8vg"
      },
      "source": [
        "preds = df.clasification[clf.predict(test[features])]\n",
        "preds = np.array(preds[0:len(test)])"
      ],
      "execution_count": null,
      "outputs": []
    },
    {
      "cell_type": "code",
      "metadata": {
        "colab": {
          "base_uri": "https://localhost:8080/"
        },
        "id": "svGgJf27rBRQ",
        "outputId": "3ce12b42-cf26-4b4b-f138-abbd88c5f416"
      },
      "source": [
        "test['clasification'].value_counts()"
      ],
      "execution_count": null,
      "outputs": [
        {
          "output_type": "execute_result",
          "data": {
            "text/plain": [
              "HERIDO        7385\n",
              "SOLO DAÑOS    6697\n",
              "MUERTO          41\n",
              "Name: clasification, dtype: int64"
            ]
          },
          "metadata": {},
          "execution_count": 12
        }
      ]
    },
    {
      "cell_type": "code",
      "metadata": {
        "colab": {
          "base_uri": "https://localhost:8080/"
        },
        "id": "oZFc1MxSsZvo",
        "outputId": "d5d66bf9-230a-4b89-ff32-21584d8defeb"
      },
      "source": [
        "from operator import itemgetter\n",
        "feature  = list(sorted(zip(train[features],clf.feature_importances_),key=itemgetter(1), reverse= True))\n",
        "feature"
      ],
      "execution_count": null,
      "outputs": [
        {
          "output_type": "execute_result",
          "data": {
            "text/plain": [
              "[('NUM_CLASE', 0.32413458803570167),\n",
              " ('Y', 0.10471394052034555),\n",
              " ('RADICADO', 0.10209398292667414),\n",
              " ('OBJECTID', 0.10091645332492515),\n",
              " ('X', 0.09370346738792724),\n",
              " ('DIA', 0.07360567193041004),\n",
              " ('NUM_BARRIO', 0.04618676068539873),\n",
              " ('NUM_DISENO', 0.04503921703429718),\n",
              " ('DIA_SEMANA', 0.043823754641231796),\n",
              " ('MES', 0.04029779257946584),\n",
              " ('NUM_COMUNA', 0.02109751408609197),\n",
              " ('PERIODO', 0.004386856847530706)]"
            ]
          },
          "metadata": {},
          "execution_count": 13
        }
      ]
    },
    {
      "cell_type": "code",
      "metadata": {
        "colab": {
          "base_uri": "https://localhost:8080/",
          "height": 359
        },
        "id": "-ILgYvFHsdjk",
        "outputId": "907faabb-7f9a-4be0-96bb-2e76ee18a716"
      },
      "source": [
        "feature_importances = dict(feature)\n",
        "\n",
        "names = list(feature_importances.keys())\n",
        "values = list(feature_importances.values())\n",
        "\n",
        "plt.bar(range(len(feature_importances)),values,tick_label=names)\n",
        "plt.xticks(rotation = 'vertical')\n",
        "plt.xlabel('Features')\n",
        "plt.ylabel('Score')\n",
        "plt.title('Important feature')\n",
        "plt.savefig('')\n",
        "plt.show()"
      ],
      "execution_count": null,
      "outputs": [
        {
          "output_type": "display_data",
          "data": {
            "image/png": "[encoded data removed]",
            "text/plain": [
              "<Figure size 432x288 with 1 Axes>"
            ]
          },
          "metadata": {
            "needs_background": "light"
          }
        }
      ]
    },
    {
      "cell_type": "markdown",
      "metadata": {
        "id": "fglGISBessT7"
      },
      "source": [
        "# **Decision trees**"
      ]
    },
    {
      "cell_type": "code",
      "metadata": {
        "id": "7SJ25hHtswQh"
      },
      "source": [
        "model = DecisionTreeRegressor(max_depth = 4)\n",
        "\n",
        "from sklearn.model_selection import train_test_split\n",
        "\n",
        "X = pd.read_csv(\"X.csv\")\n",
        "y = X['NUM_GRAVEDAD']\n",
        "X = X.drop(['NUM_GRAVEDAD','X',\t'Y'],axis=1)"
      ],
      "execution_count": null,
      "outputs": []
    },
    {
      "cell_type": "code",
      "metadata": {
        "colab": {
          "base_uri": "https://localhost:8080/"
        },
        "id": "O9G8SXZrs9CS",
        "outputId": "a671b171-8bb4-40af-82b8-4670646465cd"
      },
      "source": [
        "X_train, X_test, y_train, y_test = train_test_split(X,y, random_state=1)\n",
        "model.fit(X_train,y_train)"
      ],
      "execution_count": null,
      "outputs": [
        {
          "output_type": "execute_result",
          "data": {
            "text/plain": [
              "DecisionTreeRegressor(ccp_alpha=0.0, criterion='mse', max_depth=4,\n",
              "                      max_features=None, max_leaf_nodes=None,\n",
              "                      min_impurity_decrease=0.0, min_impurity_split=None,\n",
              "                      min_samples_leaf=1, min_samples_split=2,\n",
              "                      min_weight_fraction_leaf=0.0, presort='deprecated',\n",
              "                      random_state=None, splitter='best')"
            ]
          },
          "metadata": {},
          "execution_count": 16
        }
      ]
    },
    {
      "cell_type": "code",
      "metadata": {
        "colab": {
          "base_uri": "https://localhost:8080/",
          "height": 677
        },
        "id": "2AalDcz8s9Z-",
        "outputId": "4b1ac5e0-908f-4df2-f30b-3764b21633a4"
      },
      "source": [
        "import graphviz\n",
        "from sklearn.tree import export_graphviz\n",
        "\n",
        "treedot = export_graphviz(model,\n",
        "                         out_file =None,\n",
        "                          feature_names=X.columns\n",
        "                         )\n",
        "graphviz.Source(treedot)"
      ],
      "execution_count": null,
      "outputs": [
        {
          "output_type": "execute_result",
          "data": {
            "text/plain": [
              "<graphviz.files.Source at 0x7f49846b8a90>"
            ],
            "image/svg+xml": "<?xml version=\"1.0\" encoding=\"UTF-8\" standalone=\"no\"?>\n<!DOCTYPE svg PUBLIC \"-//W3C//DTD SVG 1.1//EN\"\n \"http://www.w3.org/Graphics/SVG/1.1/DTD/svg11.dtd\">\n<!-- Generated by graphviz version 2.40.1 (20161225.0304)\n -->\n<!-- Title: Tree Pages: 1 -->\n<svg width=\"1694pt\" height=\"477pt\"\n viewBox=\"0.00 0.00 1693.50 477.00\" xmlns=\"http://www.w3.org/2000/svg\" xmlns:xlink=\"http://www.w3.org/1999/xlink\">\n<g id=\"graph0\" class=\"graph\" transform=\"scale(1 1) rotate(0) translate(4 473)\">\n<title>Tree</title>\n<polygon fill=\"#ffffff\" stroke=\"transparent\" points=\"-4,4 -4,-473 1689.5,-473 1689.5,4 -4,4\"/>\n<!-- 0 -->\n<g id=\"node1\" class=\"node\">\n<title>0</title>\n<polygon fill=\"none\" stroke=\"#000000\" points=\"1035.5,-469 888.5,-469 888.5,-401 1035.5,-401 1035.5,-469\"/>\n<text text-anchor=\"middle\" x=\"962\" y=\"-453.8\" font-family=\"Times,serif\" font-size=\"14.00\" fill=\"#000000\">NUM_CLASE &lt;= 0.5</text>\n<text text-anchor=\"middle\" x=\"962\" y=\"-438.8\" font-family=\"Times,serif\" font-size=\"14.00\" fill=\"#000000\">mse = 0.256</text>\n<text text-anchor=\"middle\" x=\"962\" y=\"-423.8\" font-family=\"Times,serif\" font-size=\"14.00\" fill=\"#000000\">samples = 53189</text>\n<text text-anchor=\"middle\" x=\"962\" y=\"-408.8\" font-family=\"Times,serif\" font-size=\"14.00\" fill=\"#000000\">value = 0.479</text>\n</g>\n<!-- 1 -->\n<g id=\"node2\" class=\"node\">\n<title>1</title>\n<polygon fill=\"none\" stroke=\"#000000\" points=\"809,-365 655,-365 655,-297 809,-297 809,-365\"/>\n<text text-anchor=\"middle\" x=\"732\" y=\"-349.8\" font-family=\"Times,serif\" font-size=\"14.00\" fill=\"#000000\">NUM_DISENO &lt;= 0.5</text>\n<text text-anchor=\"middle\" x=\"732\" y=\"-334.8\" font-family=\"Times,serif\" font-size=\"14.00\" fill=\"#000000\">mse = 0.222</text>\n<text text-anchor=\"middle\" x=\"732\" y=\"-319.8\" font-family=\"Times,serif\" font-size=\"14.00\" fill=\"#000000\">samples = 36981</text>\n<text text-anchor=\"middle\" x=\"732\" y=\"-304.8\" font-family=\"Times,serif\" font-size=\"14.00\" fill=\"#000000\">value = 0.68</text>\n</g>\n<!-- 0&#45;&gt;1 -->\n<g id=\"edge1\" class=\"edge\">\n<title>0&#45;&gt;1</title>\n<path fill=\"none\" stroke=\"#000000\" d=\"M888.2775,-401.6646C865.4261,-391.3318 840.0676,-379.8654 816.5418,-369.2276\"/>\n<polygon fill=\"#000000\" stroke=\"#000000\" points=\"817.834,-365.9708 807.2801,-365.0397 814.9499,-372.349 817.834,-365.9708\"/>\n<text text-anchor=\"middle\" x=\"816.1042\" y=\"-384.7306\" font-family=\"Times,serif\" font-size=\"14.00\" fill=\"#000000\">True</text>\n</g>\n<!-- 16 -->\n<g id=\"node17\" class=\"node\">\n<title>16</title>\n<polygon fill=\"none\" stroke=\"#000000\" points=\"1311.5,-365 1164.5,-365 1164.5,-297 1311.5,-297 1311.5,-365\"/>\n<text text-anchor=\"middle\" x=\"1238\" y=\"-349.8\" font-family=\"Times,serif\" font-size=\"14.00\" fill=\"#000000\">NUM_CLASE &lt;= 4.5</text>\n<text text-anchor=\"middle\" x=\"1238\" y=\"-334.8\" font-family=\"Times,serif\" font-size=\"14.00\" fill=\"#000000\">mse = 0.029</text>\n<text text-anchor=\"middle\" x=\"1238\" y=\"-319.8\" font-family=\"Times,serif\" font-size=\"14.00\" fill=\"#000000\">samples = 16208</text>\n<text text-anchor=\"middle\" x=\"1238\" y=\"-304.8\" font-family=\"Times,serif\" font-size=\"14.00\" fill=\"#000000\">value = 0.019</text>\n</g>\n<!-- 0&#45;&gt;16 -->\n<g id=\"edge16\" class=\"edge\">\n<title>0&#45;&gt;16</title>\n<path fill=\"none\" stroke=\"#000000\" d=\"M1035.6004,-407.2665C1072.2566,-393.454 1116.7273,-376.697 1154.6375,-362.4119\"/>\n<polygon fill=\"#000000\" stroke=\"#000000\" points=\"1156.0021,-365.6381 1164.1256,-358.8367 1153.5338,-359.0877 1156.0021,-365.6381\"/>\n<text text-anchor=\"middle\" x=\"1153.8167\" y=\"-377.9123\" font-family=\"Times,serif\" font-size=\"14.00\" fill=\"#000000\">False</text>\n</g>\n<!-- 2 -->\n<g id=\"node3\" class=\"node\">\n<title>2</title>\n<polygon fill=\"none\" stroke=\"#000000\" points=\"464,-261 300,-261 300,-193 464,-193 464,-261\"/>\n<text text-anchor=\"middle\" x=\"382\" y=\"-245.8\" font-family=\"Times,serif\" font-size=\"14.00\" fill=\"#000000\">NUM_COMUNA &lt;= 2.5</text>\n<text text-anchor=\"middle\" x=\"382\" y=\"-230.8\" font-family=\"Times,serif\" font-size=\"14.00\" fill=\"#000000\">mse = 0.249</text>\n<text text-anchor=\"middle\" x=\"382\" y=\"-215.8\" font-family=\"Times,serif\" font-size=\"14.00\" fill=\"#000000\">samples = 8975</text>\n<text text-anchor=\"middle\" x=\"382\" y=\"-200.8\" font-family=\"Times,serif\" font-size=\"14.00\" fill=\"#000000\">value = 0.569</text>\n</g>\n<!-- 1&#45;&gt;2 -->\n<g id=\"edge2\" class=\"edge\">\n<title>1&#45;&gt;2</title>\n<path fill=\"none\" stroke=\"#000000\" d=\"M654.7577,-308.048C601.3781,-292.1866 530.1315,-271.0162 473.8412,-254.2899\"/>\n<polygon fill=\"#000000\" stroke=\"#000000\" points=\"474.811,-250.9269 464.2283,-251.4336 472.8171,-257.637 474.811,-250.9269\"/>\n</g>\n<!-- 9 -->\n<g id=\"node10\" class=\"node\">\n<title>9</title>\n<polygon fill=\"none\" stroke=\"#000000\" points=\"814,-261 650,-261 650,-193 814,-193 814,-261\"/>\n<text text-anchor=\"middle\" x=\"732\" y=\"-245.8\" font-family=\"Times,serif\" font-size=\"14.00\" fill=\"#000000\">NUM_COMUNA &lt;= 4.5</text>\n<text text-anchor=\"middle\" x=\"732\" y=\"-230.8\" font-family=\"Times,serif\" font-size=\"14.00\" fill=\"#000000\">mse = 0.208</text>\n<text text-anchor=\"middle\" x=\"732\" y=\"-215.8\" font-family=\"Times,serif\" font-size=\"14.00\" fill=\"#000000\">samples = 28006</text>\n<text text-anchor=\"middle\" x=\"732\" y=\"-200.8\" font-family=\"Times,serif\" font-size=\"14.00\" fill=\"#000000\">value = 0.716</text>\n</g>\n<!-- 1&#45;&gt;9 -->\n<g id=\"edge9\" class=\"edge\">\n<title>1&#45;&gt;9</title>\n<path fill=\"none\" stroke=\"#000000\" d=\"M732,-296.9465C732,-288.776 732,-279.9318 732,-271.3697\"/>\n<polygon fill=\"#000000\" stroke=\"#000000\" points=\"735.5001,-271.13 732,-261.13 728.5001,-271.13 735.5001,-271.13\"/>\n</g>\n<!-- 3 -->\n<g id=\"node4\" class=\"node\">\n<title>3</title>\n<polygon fill=\"none\" stroke=\"#000000\" points=\"248.5,-157 95.5,-157 95.5,-89 248.5,-89 248.5,-157\"/>\n<text text-anchor=\"middle\" x=\"172\" y=\"-141.8\" font-family=\"Times,serif\" font-size=\"14.00\" fill=\"#000000\">DIA_SEMANA &lt;= 0.5</text>\n<text text-anchor=\"middle\" x=\"172\" y=\"-126.8\" font-family=\"Times,serif\" font-size=\"14.00\" fill=\"#000000\">mse = 0.243</text>\n<text text-anchor=\"middle\" x=\"172\" y=\"-111.8\" font-family=\"Times,serif\" font-size=\"14.00\" fill=\"#000000\">samples = 3559</text>\n<text text-anchor=\"middle\" x=\"172\" y=\"-96.8\" font-family=\"Times,serif\" font-size=\"14.00\" fill=\"#000000\">value = 0.615</text>\n</g>\n<!-- 2&#45;&gt;3 -->\n<g id=\"edge3\" class=\"edge\">\n<title>2&#45;&gt;3</title>\n<path fill=\"none\" stroke=\"#000000\" d=\"M313.2381,-192.9465C293.0235,-182.9354 270.7664,-171.9129 250.0172,-161.6371\"/>\n<polygon fill=\"#000000\" stroke=\"#000000\" points=\"251.4309,-158.4316 240.9163,-157.13 248.3243,-164.7045 251.4309,-158.4316\"/>\n</g>\n<!-- 6 -->\n<g id=\"node7\" class=\"node\">\n<title>6</title>\n<polygon fill=\"none\" stroke=\"#000000\" points=\"463.5,-157 300.5,-157 300.5,-89 463.5,-89 463.5,-157\"/>\n<text text-anchor=\"middle\" x=\"382\" y=\"-141.8\" font-family=\"Times,serif\" font-size=\"14.00\" fill=\"#000000\">NUM_BARRIO &lt;= 19.5</text>\n<text text-anchor=\"middle\" x=\"382\" y=\"-126.8\" font-family=\"Times,serif\" font-size=\"14.00\" fill=\"#000000\">mse = 0.251</text>\n<text text-anchor=\"middle\" x=\"382\" y=\"-111.8\" font-family=\"Times,serif\" font-size=\"14.00\" fill=\"#000000\">samples = 5416</text>\n<text text-anchor=\"middle\" x=\"382\" y=\"-96.8\" font-family=\"Times,serif\" font-size=\"14.00\" fill=\"#000000\">value = 0.539</text>\n</g>\n<!-- 2&#45;&gt;6 -->\n<g id=\"edge6\" class=\"edge\">\n<title>2&#45;&gt;6</title>\n<path fill=\"none\" stroke=\"#000000\" d=\"M382,-192.9465C382,-184.776 382,-175.9318 382,-167.3697\"/>\n<polygon fill=\"#000000\" stroke=\"#000000\" points=\"385.5001,-167.13 382,-157.13 378.5001,-167.13 385.5001,-167.13\"/>\n</g>\n<!-- 4 -->\n<g id=\"node5\" class=\"node\">\n<title>4</title>\n<polygon fill=\"none\" stroke=\"#000000\" points=\"100,-53 0,-53 0,0 100,0 100,-53\"/>\n<text text-anchor=\"middle\" x=\"50\" y=\"-37.8\" font-family=\"Times,serif\" font-size=\"14.00\" fill=\"#000000\">mse = 0.257</text>\n<text text-anchor=\"middle\" x=\"50\" y=\"-22.8\" font-family=\"Times,serif\" font-size=\"14.00\" fill=\"#000000\">samples = 291</text>\n<text text-anchor=\"middle\" x=\"50\" y=\"-7.8\" font-family=\"Times,serif\" font-size=\"14.00\" fill=\"#000000\">value = 0.495</text>\n</g>\n<!-- 3&#45;&gt;4 -->\n<g id=\"edge4\" class=\"edge\">\n<title>3&#45;&gt;4</title>\n<path fill=\"none\" stroke=\"#000000\" d=\"M128.9874,-88.9777C116.9476,-79.4545 103.8812,-69.1191 91.9065,-59.6473\"/>\n<polygon fill=\"#000000\" stroke=\"#000000\" points=\"93.8311,-56.7072 83.8167,-53.2485 89.4885,-62.1973 93.8311,-56.7072\"/>\n</g>\n<!-- 5 -->\n<g id=\"node6\" class=\"node\">\n<title>5</title>\n<polygon fill=\"none\" stroke=\"#000000\" points=\"225.5,-53 118.5,-53 118.5,0 225.5,0 225.5,-53\"/>\n<text text-anchor=\"middle\" x=\"172\" y=\"-37.8\" font-family=\"Times,serif\" font-size=\"14.00\" fill=\"#000000\">mse = 0.24</text>\n<text text-anchor=\"middle\" x=\"172\" y=\"-22.8\" font-family=\"Times,serif\" font-size=\"14.00\" fill=\"#000000\">samples = 3268</text>\n<text text-anchor=\"middle\" x=\"172\" y=\"-7.8\" font-family=\"Times,serif\" font-size=\"14.00\" fill=\"#000000\">value = 0.626</text>\n</g>\n<!-- 3&#45;&gt;5 -->\n<g id=\"edge5\" class=\"edge\">\n<title>3&#45;&gt;5</title>\n<path fill=\"none\" stroke=\"#000000\" d=\"M172,-88.9777C172,-80.7364 172,-71.887 172,-63.5153\"/>\n<polygon fill=\"#000000\" stroke=\"#000000\" points=\"175.5001,-63.2484 172,-53.2485 168.5001,-63.2485 175.5001,-63.2484\"/>\n</g>\n<!-- 7 -->\n<g id=\"node8\" class=\"node\">\n<title>7</title>\n<polygon fill=\"none\" stroke=\"#000000\" points=\"344,-53 244,-53 244,0 344,0 344,-53\"/>\n<text text-anchor=\"middle\" x=\"294\" y=\"-37.8\" font-family=\"Times,serif\" font-size=\"14.00\" fill=\"#000000\">mse = 0.233</text>\n<text text-anchor=\"middle\" x=\"294\" y=\"-22.8\" font-family=\"Times,serif\" font-size=\"14.00\" fill=\"#000000\">samples = 619</text>\n<text text-anchor=\"middle\" x=\"294\" y=\"-7.8\" font-family=\"Times,serif\" font-size=\"14.00\" fill=\"#000000\">value = 0.63</text>\n</g>\n<!-- 6&#45;&gt;7 -->\n<g id=\"edge7\" class=\"edge\">\n<title>6&#45;&gt;7</title>\n<path fill=\"none\" stroke=\"#000000\" d=\"M350.9745,-88.9777C342.6241,-79.8207 333.589,-69.9129 325.2276,-60.744\"/>\n<polygon fill=\"#000000\" stroke=\"#000000\" points=\"327.7167,-58.2791 318.3924,-53.2485 322.5444,-62.9959 327.7167,-58.2791\"/>\n</g>\n<!-- 8 -->\n<g id=\"node9\" class=\"node\">\n<title>8</title>\n<polygon fill=\"none\" stroke=\"#000000\" points=\"469.5,-53 362.5,-53 362.5,0 469.5,0 469.5,-53\"/>\n<text text-anchor=\"middle\" x=\"416\" y=\"-37.8\" font-family=\"Times,serif\" font-size=\"14.00\" fill=\"#000000\">mse = 0.252</text>\n<text text-anchor=\"middle\" x=\"416\" y=\"-22.8\" font-family=\"Times,serif\" font-size=\"14.00\" fill=\"#000000\">samples = 4797</text>\n<text text-anchor=\"middle\" x=\"416\" y=\"-7.8\" font-family=\"Times,serif\" font-size=\"14.00\" fill=\"#000000\">value = 0.528</text>\n</g>\n<!-- 6&#45;&gt;8 -->\n<g id=\"edge8\" class=\"edge\">\n<title>6&#45;&gt;8</title>\n<path fill=\"none\" stroke=\"#000000\" d=\"M393.9871,-88.9777C396.9553,-80.5533 400.1474,-71.4934 403.1547,-62.9579\"/>\n<polygon fill=\"#000000\" stroke=\"#000000\" points=\"406.5536,-63.8433 406.5757,-53.2485 399.9514,-61.5171 406.5536,-63.8433\"/>\n</g>\n<!-- 10 -->\n<g id=\"node11\" class=\"node\">\n<title>10</title>\n<polygon fill=\"none\" stroke=\"#000000\" points=\"721,-157 567,-157 567,-89 721,-89 721,-157\"/>\n<text text-anchor=\"middle\" x=\"644\" y=\"-141.8\" font-family=\"Times,serif\" font-size=\"14.00\" fill=\"#000000\">NUM_DISENO &lt;= 3.5</text>\n<text text-anchor=\"middle\" x=\"644\" y=\"-126.8\" font-family=\"Times,serif\" font-size=\"14.00\" fill=\"#000000\">mse = 0.19</text>\n<text text-anchor=\"middle\" x=\"644\" y=\"-111.8\" font-family=\"Times,serif\" font-size=\"14.00\" fill=\"#000000\">samples = 12690</text>\n<text text-anchor=\"middle\" x=\"644\" y=\"-96.8\" font-family=\"Times,serif\" font-size=\"14.00\" fill=\"#000000\">value = 0.754</text>\n</g>\n<!-- 9&#45;&gt;10 -->\n<g id=\"edge10\" class=\"edge\">\n<title>9&#45;&gt;10</title>\n<path fill=\"none\" stroke=\"#000000\" d=\"M703.1855,-192.9465C695.5883,-183.968 687.3026,-174.1758 679.4018,-164.8385\"/>\n<polygon fill=\"#000000\" stroke=\"#000000\" points=\"682.0105,-162.5031 672.8792,-157.13 676.6668,-167.0247 682.0105,-162.5031\"/>\n</g>\n<!-- 13 -->\n<g id=\"node14\" class=\"node\">\n<title>13</title>\n<polygon fill=\"none\" stroke=\"#000000\" points=\"903,-157 739,-157 739,-89 903,-89 903,-157\"/>\n<text text-anchor=\"middle\" x=\"821\" y=\"-141.8\" font-family=\"Times,serif\" font-size=\"14.00\" fill=\"#000000\">NUM_COMUNA &lt;= 7.5</text>\n<text text-anchor=\"middle\" x=\"821\" y=\"-126.8\" font-family=\"Times,serif\" font-size=\"14.00\" fill=\"#000000\">mse = 0.222</text>\n<text text-anchor=\"middle\" x=\"821\" y=\"-111.8\" font-family=\"Times,serif\" font-size=\"14.00\" fill=\"#000000\">samples = 15316</text>\n<text text-anchor=\"middle\" x=\"821\" y=\"-96.8\" font-family=\"Times,serif\" font-size=\"14.00\" fill=\"#000000\">value = 0.684</text>\n</g>\n<!-- 9&#45;&gt;13 -->\n<g id=\"edge13\" class=\"edge\">\n<title>9&#45;&gt;13</title>\n<path fill=\"none\" stroke=\"#000000\" d=\"M761.1419,-192.9465C768.8255,-183.968 777.2053,-174.1758 785.1959,-164.8385\"/>\n<polygon fill=\"#000000\" stroke=\"#000000\" points=\"787.9499,-167.0034 791.7926,-157.13 782.6315,-162.4521 787.9499,-167.0034\"/>\n</g>\n<!-- 11 -->\n<g id=\"node12\" class=\"node\">\n<title>11</title>\n<polygon fill=\"none\" stroke=\"#000000\" points=\"602.5,-53 487.5,-53 487.5,0 602.5,0 602.5,-53\"/>\n<text text-anchor=\"middle\" x=\"545\" y=\"-37.8\" font-family=\"Times,serif\" font-size=\"14.00\" fill=\"#000000\">mse = 0.187</text>\n<text text-anchor=\"middle\" x=\"545\" y=\"-22.8\" font-family=\"Times,serif\" font-size=\"14.00\" fill=\"#000000\">samples = 12207</text>\n<text text-anchor=\"middle\" x=\"545\" y=\"-7.8\" font-family=\"Times,serif\" font-size=\"14.00\" fill=\"#000000\">value = 0.759</text>\n</g>\n<!-- 10&#45;&gt;11 -->\n<g id=\"edge11\" class=\"edge\">\n<title>10&#45;&gt;11</title>\n<path fill=\"none\" stroke=\"#000000\" d=\"M609.0963,-88.9777C599.6082,-79.7292 589.3343,-69.7147 579.8491,-60.4691\"/>\n<polygon fill=\"#000000\" stroke=\"#000000\" points=\"582.0454,-57.7223 572.4414,-53.2485 577.1593,-62.7349 582.0454,-57.7223\"/>\n</g>\n<!-- 12 -->\n<g id=\"node13\" class=\"node\">\n<title>12</title>\n<polygon fill=\"none\" stroke=\"#000000\" points=\"721,-53 621,-53 621,0 721,0 721,-53\"/>\n<text text-anchor=\"middle\" x=\"671\" y=\"-37.8\" font-family=\"Times,serif\" font-size=\"14.00\" fill=\"#000000\">mse = 0.235</text>\n<text text-anchor=\"middle\" x=\"671\" y=\"-22.8\" font-family=\"Times,serif\" font-size=\"14.00\" fill=\"#000000\">samples = 483</text>\n<text text-anchor=\"middle\" x=\"671\" y=\"-7.8\" font-family=\"Times,serif\" font-size=\"14.00\" fill=\"#000000\">value = 0.621</text>\n</g>\n<!-- 10&#45;&gt;12 -->\n<g id=\"edge12\" class=\"edge\">\n<title>10&#45;&gt;12</title>\n<path fill=\"none\" stroke=\"#000000\" d=\"M653.5192,-88.9777C655.8763,-80.5533 658.4112,-71.4934 660.7993,-62.9579\"/>\n<polygon fill=\"#000000\" stroke=\"#000000\" points=\"664.192,-63.8217 663.516,-53.2485 657.4509,-61.9356 664.192,-63.8217\"/>\n</g>\n<!-- 14 -->\n<g id=\"node15\" class=\"node\">\n<title>14</title>\n<polygon fill=\"none\" stroke=\"#000000\" points=\"846.5,-53 739.5,-53 739.5,0 846.5,0 846.5,-53\"/>\n<text text-anchor=\"middle\" x=\"793\" y=\"-37.8\" font-family=\"Times,serif\" font-size=\"14.00\" fill=\"#000000\">mse = 0.239</text>\n<text text-anchor=\"middle\" x=\"793\" y=\"-22.8\" font-family=\"Times,serif\" font-size=\"14.00\" fill=\"#000000\">samples = 4386</text>\n<text text-anchor=\"middle\" x=\"793\" y=\"-7.8\" font-family=\"Times,serif\" font-size=\"14.00\" fill=\"#000000\">value = 0.638</text>\n</g>\n<!-- 13&#45;&gt;14 -->\n<g id=\"edge14\" class=\"edge\">\n<title>13&#45;&gt;14</title>\n<path fill=\"none\" stroke=\"#000000\" d=\"M811.1282,-88.9777C808.6839,-80.5533 806.0551,-71.4934 803.5785,-62.9579\"/>\n<polygon fill=\"#000000\" stroke=\"#000000\" points=\"806.9093,-61.877 800.7612,-53.2485 800.1865,-63.8277 806.9093,-61.877\"/>\n</g>\n<!-- 15 -->\n<g id=\"node16\" class=\"node\">\n<title>15</title>\n<polygon fill=\"none\" stroke=\"#000000\" points=\"979.5,-53 864.5,-53 864.5,0 979.5,0 979.5,-53\"/>\n<text text-anchor=\"middle\" x=\"922\" y=\"-37.8\" font-family=\"Times,serif\" font-size=\"14.00\" fill=\"#000000\">mse = 0.213</text>\n<text text-anchor=\"middle\" x=\"922\" y=\"-22.8\" font-family=\"Times,serif\" font-size=\"14.00\" fill=\"#000000\">samples = 10930</text>\n<text text-anchor=\"middle\" x=\"922\" y=\"-7.8\" font-family=\"Times,serif\" font-size=\"14.00\" fill=\"#000000\">value = 0.703</text>\n</g>\n<!-- 13&#45;&gt;15 -->\n<g id=\"edge15\" class=\"edge\">\n<title>13&#45;&gt;15</title>\n<path fill=\"none\" stroke=\"#000000\" d=\"M856.6088,-88.9777C866.3845,-79.6376 876.9777,-69.5163 886.734,-60.1947\"/>\n<polygon fill=\"#000000\" stroke=\"#000000\" points=\"889.1917,-62.6873 894.0042,-53.2485 884.356,-57.6261 889.1917,-62.6873\"/>\n</g>\n<!-- 17 -->\n<g id=\"node18\" class=\"node\">\n<title>17</title>\n<polygon fill=\"none\" stroke=\"#000000\" points=\"1315,-261 1161,-261 1161,-193 1315,-193 1315,-261\"/>\n<text text-anchor=\"middle\" x=\"1238\" y=\"-245.8\" font-family=\"Times,serif\" font-size=\"14.00\" fill=\"#000000\">NUM_DISENO &lt;= 1.5</text>\n<text text-anchor=\"middle\" x=\"1238\" y=\"-230.8\" font-family=\"Times,serif\" font-size=\"14.00\" fill=\"#000000\">mse = 0.029</text>\n<text text-anchor=\"middle\" x=\"1238\" y=\"-215.8\" font-family=\"Times,serif\" font-size=\"14.00\" fill=\"#000000\">samples = 16201</text>\n<text text-anchor=\"middle\" x=\"1238\" y=\"-200.8\" font-family=\"Times,serif\" font-size=\"14.00\" fill=\"#000000\">value = 0.018</text>\n</g>\n<!-- 16&#45;&gt;17 -->\n<g id=\"edge17\" class=\"edge\">\n<title>16&#45;&gt;17</title>\n<path fill=\"none\" stroke=\"#000000\" d=\"M1238,-296.9465C1238,-288.776 1238,-279.9318 1238,-271.3697\"/>\n<polygon fill=\"#000000\" stroke=\"#000000\" points=\"1241.5001,-271.13 1238,-261.13 1234.5001,-271.13 1241.5001,-271.13\"/>\n</g>\n<!-- 24 -->\n<g id=\"node25\" class=\"node\">\n<title>24</title>\n<polygon fill=\"none\" stroke=\"#000000\" points=\"1615.5,-261 1452.5,-261 1452.5,-193 1615.5,-193 1615.5,-261\"/>\n<text text-anchor=\"middle\" x=\"1534\" y=\"-245.8\" font-family=\"Times,serif\" font-size=\"14.00\" fill=\"#000000\">NUM_BARRIO &lt;= 38.5</text>\n<text text-anchor=\"middle\" x=\"1534\" y=\"-230.8\" font-family=\"Times,serif\" font-size=\"14.00\" fill=\"#000000\">mse = 0.204</text>\n<text text-anchor=\"middle\" x=\"1534\" y=\"-215.8\" font-family=\"Times,serif\" font-size=\"14.00\" fill=\"#000000\">samples = 7</text>\n<text text-anchor=\"middle\" x=\"1534\" y=\"-200.8\" font-family=\"Times,serif\" font-size=\"14.00\" fill=\"#000000\">value = 0.714</text>\n</g>\n<!-- 16&#45;&gt;24 -->\n<g id=\"edge24\" class=\"edge\">\n<title>16&#45;&gt;24</title>\n<path fill=\"none\" stroke=\"#000000\" d=\"M1311.5489,-305.1585C1351.3439,-291.1765 1400.8496,-273.7826 1443.049,-258.9558\"/>\n<polygon fill=\"#000000\" stroke=\"#000000\" points=\"1444.2166,-262.2554 1452.4909,-255.6383 1441.8961,-255.6511 1444.2166,-262.2554\"/>\n</g>\n<!-- 18 -->\n<g id=\"node19\" class=\"node\">\n<title>18</title>\n<polygon fill=\"none\" stroke=\"#000000\" points=\"1227.5,-157 1080.5,-157 1080.5,-89 1227.5,-89 1227.5,-157\"/>\n<text text-anchor=\"middle\" x=\"1154\" y=\"-141.8\" font-family=\"Times,serif\" font-size=\"14.00\" fill=\"#000000\">NUM_CLASE &lt;= 1.5</text>\n<text text-anchor=\"middle\" x=\"1154\" y=\"-126.8\" font-family=\"Times,serif\" font-size=\"14.00\" fill=\"#000000\">mse = 0.046</text>\n<text text-anchor=\"middle\" x=\"1154\" y=\"-111.8\" font-family=\"Times,serif\" font-size=\"14.00\" fill=\"#000000\">samples = 9746</text>\n<text text-anchor=\"middle\" x=\"1154\" y=\"-96.8\" font-family=\"Times,serif\" font-size=\"14.00\" fill=\"#000000\">value = 0.029</text>\n</g>\n<!-- 17&#45;&gt;18 -->\n<g id=\"edge18\" class=\"edge\">\n<title>17&#45;&gt;18</title>\n<path fill=\"none\" stroke=\"#000000\" d=\"M1210.4953,-192.9465C1203.3159,-184.0578 1195.4924,-174.3716 1188.019,-165.1188\"/>\n<polygon fill=\"#000000\" stroke=\"#000000\" points=\"1190.5727,-162.7102 1181.5665,-157.13 1185.1271,-167.1086 1190.5727,-162.7102\"/>\n</g>\n<!-- 21 -->\n<g id=\"node22\" class=\"node\">\n<title>21</title>\n<polygon fill=\"none\" stroke=\"#000000\" points=\"1400,-157 1246,-157 1246,-89 1400,-89 1400,-157\"/>\n<text text-anchor=\"middle\" x=\"1323\" y=\"-141.8\" font-family=\"Times,serif\" font-size=\"14.00\" fill=\"#000000\">NUM_DISENO &lt;= 5.5</text>\n<text text-anchor=\"middle\" x=\"1323\" y=\"-126.8\" font-family=\"Times,serif\" font-size=\"14.00\" fill=\"#000000\">mse = 0.003</text>\n<text text-anchor=\"middle\" x=\"1323\" y=\"-111.8\" font-family=\"Times,serif\" font-size=\"14.00\" fill=\"#000000\">samples = 6455</text>\n<text text-anchor=\"middle\" x=\"1323\" y=\"-96.8\" font-family=\"Times,serif\" font-size=\"14.00\" fill=\"#000000\">value = 0.002</text>\n</g>\n<!-- 17&#45;&gt;21 -->\n<g id=\"edge21\" class=\"edge\">\n<title>17&#45;&gt;21</title>\n<path fill=\"none\" stroke=\"#000000\" d=\"M1265.8322,-192.9465C1273.097,-184.0578 1281.0136,-174.3716 1288.576,-165.1188\"/>\n<polygon fill=\"#000000\" stroke=\"#000000\" points=\"1291.487,-167.0878 1295.1053,-157.13 1286.0669,-162.658 1291.487,-167.0878\"/>\n</g>\n<!-- 19 -->\n<g id=\"node20\" class=\"node\">\n<title>19</title>\n<polygon fill=\"none\" stroke=\"#000000\" points=\"1104.5,-53 997.5,-53 997.5,0 1104.5,0 1104.5,-53\"/>\n<text text-anchor=\"middle\" x=\"1051\" y=\"-37.8\" font-family=\"Times,serif\" font-size=\"14.00\" fill=\"#000000\">mse = 0.005</text>\n<text text-anchor=\"middle\" x=\"1051\" y=\"-22.8\" font-family=\"Times,serif\" font-size=\"14.00\" fill=\"#000000\">samples = 2258</text>\n<text text-anchor=\"middle\" x=\"1051\" y=\"-7.8\" font-family=\"Times,serif\" font-size=\"14.00\" fill=\"#000000\">value = 0.003</text>\n</g>\n<!-- 18&#45;&gt;19 -->\n<g id=\"edge19\" class=\"edge\">\n<title>18&#45;&gt;19</title>\n<path fill=\"none\" stroke=\"#000000\" d=\"M1117.6861,-88.9777C1107.7168,-79.6376 1096.9138,-69.5163 1086.9643,-60.1947\"/>\n<polygon fill=\"#000000\" stroke=\"#000000\" points=\"1089.2408,-57.5314 1079.5502,-53.2485 1084.4548,-62.6397 1089.2408,-57.5314\"/>\n</g>\n<!-- 20 -->\n<g id=\"node21\" class=\"node\">\n<title>20</title>\n<polygon fill=\"none\" stroke=\"#000000\" points=\"1229.5,-53 1122.5,-53 1122.5,0 1229.5,0 1229.5,-53\"/>\n<text text-anchor=\"middle\" x=\"1176\" y=\"-37.8\" font-family=\"Times,serif\" font-size=\"14.00\" fill=\"#000000\">mse = 0.058</text>\n<text text-anchor=\"middle\" x=\"1176\" y=\"-22.8\" font-family=\"Times,serif\" font-size=\"14.00\" fill=\"#000000\">samples = 7488</text>\n<text text-anchor=\"middle\" x=\"1176\" y=\"-7.8\" font-family=\"Times,serif\" font-size=\"14.00\" fill=\"#000000\">value = 0.037</text>\n</g>\n<!-- 18&#45;&gt;20 -->\n<g id=\"edge20\" class=\"edge\">\n<title>18&#45;&gt;20</title>\n<path fill=\"none\" stroke=\"#000000\" d=\"M1161.7564,-88.9777C1163.6561,-80.6449 1165.6976,-71.6903 1167.6249,-63.2364\"/>\n<polygon fill=\"#000000\" stroke=\"#000000\" points=\"1171.0915,-63.7763 1169.9019,-53.2485 1164.2666,-62.2203 1171.0915,-63.7763\"/>\n</g>\n<!-- 22 -->\n<g id=\"node23\" class=\"node\">\n<title>22</title>\n<polygon fill=\"none\" stroke=\"#000000\" points=\"1354.5,-53 1247.5,-53 1247.5,0 1354.5,0 1354.5,-53\"/>\n<text text-anchor=\"middle\" x=\"1301\" y=\"-37.8\" font-family=\"Times,serif\" font-size=\"14.00\" fill=\"#000000\">mse = 0.002</text>\n<text text-anchor=\"middle\" x=\"1301\" y=\"-22.8\" font-family=\"Times,serif\" font-size=\"14.00\" fill=\"#000000\">samples = 6281</text>\n<text text-anchor=\"middle\" x=\"1301\" y=\"-7.8\" font-family=\"Times,serif\" font-size=\"14.00\" fill=\"#000000\">value = 0.002</text>\n</g>\n<!-- 21&#45;&gt;22 -->\n<g id=\"edge22\" class=\"edge\">\n<title>21&#45;&gt;22</title>\n<path fill=\"none\" stroke=\"#000000\" d=\"M1315.2436,-88.9777C1313.3439,-80.6449 1311.3024,-71.6903 1309.3751,-63.2364\"/>\n<polygon fill=\"#000000\" stroke=\"#000000\" points=\"1312.7334,-62.2203 1307.0981,-53.2485 1305.9085,-63.7763 1312.7334,-62.2203\"/>\n</g>\n<!-- 23 -->\n<g id=\"node24\" class=\"node\">\n<title>23</title>\n<polygon fill=\"none\" stroke=\"#000000\" points=\"1473,-53 1373,-53 1373,0 1473,0 1473,-53\"/>\n<text text-anchor=\"middle\" x=\"1423\" y=\"-37.8\" font-family=\"Times,serif\" font-size=\"14.00\" fill=\"#000000\">mse = 0.039</text>\n<text text-anchor=\"middle\" x=\"1423\" y=\"-22.8\" font-family=\"Times,serif\" font-size=\"14.00\" fill=\"#000000\">samples = 174</text>\n<text text-anchor=\"middle\" x=\"1423\" y=\"-7.8\" font-family=\"Times,serif\" font-size=\"14.00\" fill=\"#000000\">value = 0.029</text>\n</g>\n<!-- 21&#45;&gt;23 -->\n<g id=\"edge23\" class=\"edge\">\n<title>21&#45;&gt;23</title>\n<path fill=\"none\" stroke=\"#000000\" d=\"M1358.2563,-88.9777C1367.9351,-79.6376 1378.4235,-69.5163 1388.0832,-60.1947\"/>\n<polygon fill=\"#000000\" stroke=\"#000000\" points=\"1390.5159,-62.7111 1395.2814,-53.2485 1385.6551,-57.674 1390.5159,-62.7111\"/>\n</g>\n<!-- 25 -->\n<g id=\"node26\" class=\"node\">\n<title>25</title>\n<polygon fill=\"none\" stroke=\"#000000\" points=\"1582.5,-157 1485.5,-157 1485.5,-89 1582.5,-89 1582.5,-157\"/>\n<text text-anchor=\"middle\" x=\"1534\" y=\"-141.8\" font-family=\"Times,serif\" font-size=\"14.00\" fill=\"#000000\">MES &lt;= 11.0</text>\n<text text-anchor=\"middle\" x=\"1534\" y=\"-126.8\" font-family=\"Times,serif\" font-size=\"14.00\" fill=\"#000000\">mse = 0.222</text>\n<text text-anchor=\"middle\" x=\"1534\" y=\"-111.8\" font-family=\"Times,serif\" font-size=\"14.00\" fill=\"#000000\">samples = 3</text>\n<text text-anchor=\"middle\" x=\"1534\" y=\"-96.8\" font-family=\"Times,serif\" font-size=\"14.00\" fill=\"#000000\">value = 0.333</text>\n</g>\n<!-- 24&#45;&gt;25 -->\n<g id=\"edge25\" class=\"edge\">\n<title>24&#45;&gt;25</title>\n<path fill=\"none\" stroke=\"#000000\" d=\"M1534,-192.9465C1534,-184.776 1534,-175.9318 1534,-167.3697\"/>\n<polygon fill=\"#000000\" stroke=\"#000000\" points=\"1537.5001,-167.13 1534,-157.13 1530.5001,-167.13 1537.5001,-167.13\"/>\n</g>\n<!-- 28 -->\n<g id=\"node29\" class=\"node\">\n<title>28</title>\n<polygon fill=\"none\" stroke=\"#000000\" points=\"1685.5,-149.5 1600.5,-149.5 1600.5,-96.5 1685.5,-96.5 1685.5,-149.5\"/>\n<text text-anchor=\"middle\" x=\"1643\" y=\"-134.3\" font-family=\"Times,serif\" font-size=\"14.00\" fill=\"#000000\">mse = 0.0</text>\n<text text-anchor=\"middle\" x=\"1643\" y=\"-119.3\" font-family=\"Times,serif\" font-size=\"14.00\" fill=\"#000000\">samples = 4</text>\n<text text-anchor=\"middle\" x=\"1643\" y=\"-104.3\" font-family=\"Times,serif\" font-size=\"14.00\" fill=\"#000000\">value = 1.0</text>\n</g>\n<!-- 24&#45;&gt;28 -->\n<g id=\"edge28\" class=\"edge\">\n<title>24&#45;&gt;28</title>\n<path fill=\"none\" stroke=\"#000000\" d=\"M1569.6907,-192.9465C1581.9278,-181.2707 1595.607,-168.219 1607.8046,-156.5809\"/>\n<polygon fill=\"#000000\" stroke=\"#000000\" points=\"1610.3628,-158.9777 1615.1818,-149.5422 1605.5306,-153.9131 1610.3628,-158.9777\"/>\n</g>\n<!-- 26 -->\n<g id=\"node27\" class=\"node\">\n<title>26</title>\n<polygon fill=\"none\" stroke=\"#000000\" points=\"1576.5,-53 1491.5,-53 1491.5,0 1576.5,0 1576.5,-53\"/>\n<text text-anchor=\"middle\" x=\"1534\" y=\"-37.8\" font-family=\"Times,serif\" font-size=\"14.00\" fill=\"#000000\">mse = 0.0</text>\n<text text-anchor=\"middle\" x=\"1534\" y=\"-22.8\" font-family=\"Times,serif\" font-size=\"14.00\" fill=\"#000000\">samples = 2</text>\n<text text-anchor=\"middle\" x=\"1534\" y=\"-7.8\" font-family=\"Times,serif\" font-size=\"14.00\" fill=\"#000000\">value = 0.0</text>\n</g>\n<!-- 25&#45;&gt;26 -->\n<g id=\"edge26\" class=\"edge\">\n<title>25&#45;&gt;26</title>\n<path fill=\"none\" stroke=\"#000000\" d=\"M1534,-88.9777C1534,-80.7364 1534,-71.887 1534,-63.5153\"/>\n<polygon fill=\"#000000\" stroke=\"#000000\" points=\"1537.5001,-63.2484 1534,-53.2485 1530.5001,-63.2485 1537.5001,-63.2484\"/>\n</g>\n<!-- 27 -->\n<g id=\"node28\" class=\"node\">\n<title>27</title>\n<polygon fill=\"none\" stroke=\"#000000\" points=\"1679.5,-53 1594.5,-53 1594.5,0 1679.5,0 1679.5,-53\"/>\n<text text-anchor=\"middle\" x=\"1637\" y=\"-37.8\" font-family=\"Times,serif\" font-size=\"14.00\" fill=\"#000000\">mse = 0.0</text>\n<text text-anchor=\"middle\" x=\"1637\" y=\"-22.8\" font-family=\"Times,serif\" font-size=\"14.00\" fill=\"#000000\">samples = 1</text>\n<text text-anchor=\"middle\" x=\"1637\" y=\"-7.8\" font-family=\"Times,serif\" font-size=\"14.00\" fill=\"#000000\">value = 1.0</text>\n</g>\n<!-- 25&#45;&gt;27 -->\n<g id=\"edge27\" class=\"edge\">\n<title>25&#45;&gt;27</title>\n<path fill=\"none\" stroke=\"#000000\" d=\"M1570.3139,-88.9777C1580.2832,-79.6376 1591.0862,-69.5163 1601.0357,-60.1947\"/>\n<polygon fill=\"#000000\" stroke=\"#000000\" points=\"1603.5452,-62.6397 1608.4498,-53.2485 1598.7592,-57.5314 1603.5452,-62.6397\"/>\n</g>\n</g>\n</svg>\n"
          },
          "metadata": {},
          "execution_count": 38
        }
      ]
    },
    {
      "cell_type": "markdown",
      "metadata": {
        "id": "Ho--qKRzt0Fr"
      },
      "source": [
        "# **Random Forest**"
      ]
    },
    {
      "cell_type": "code",
      "metadata": {
        "id": "QEr6E5TctvFl"
      },
      "source": [
        "from sklearn.ensemble import RandomForestRegressor\n",
        "from sklearn.model_selection import cross_validate\n",
        "\n",
        "forest = RandomForestRegressor()\n",
        "results = cross_validate(forest,X,y,cv=5,scoring='r2',return_train_score=True)"
      ],
      "execution_count": null,
      "outputs": []
    },
    {
      "cell_type": "code",
      "metadata": {
        "colab": {
          "base_uri": "https://localhost:8080/"
        },
        "id": "d4dB2kVJuSu5",
        "outputId": "cbbd2e23-e973-44db-a3cf-ed6b9b4c3af2"
      },
      "source": [
        "test_scores = results['test_score']\n",
        "train_scores = results['train_score']\n",
        "print(np.mean(train_scores))\n",
        "print(np.mean(test_scores))"
      ],
      "execution_count": null,
      "outputs": [
        {
          "output_type": "stream",
          "name": "stdout",
          "text": [
            "0.9113167427652643\n",
            "0.21076017231992217\n"
          ]
        }
      ]
    },
    {
      "cell_type": "markdown",
      "metadata": {
        "id": "L2I6lxrsvRpP"
      },
      "source": [
        "# **Gradient boosted trees**"
      ]
    },
    {
      "cell_type": "code",
      "metadata": {
        "id": "2DXdfQRQvUvf"
      },
      "source": [
        "from sklearn.ensemble import GradientBoostingRegressor\n",
        "\n",
        "ensemble = GradientBoostingRegressor()\n",
        "results = cross_validate(forest,X,y,cv=5,scoring='r2',return_train_score=True)"
      ],
      "execution_count": null,
      "outputs": []
    },
    {
      "cell_type": "code",
      "metadata": {
        "colab": {
          "base_uri": "https://localhost:8080/"
        },
        "id": "UtLc97MxvXAI",
        "outputId": "62be5c8d-1fc5-4950-8593-a1d0a72ad040"
      },
      "source": [
        "test_scores = results['test_score']\n",
        "train_scores = results['train_score']\n",
        "print(np.mean(train_scores))\n",
        "print(np.mean(test_scores))"
      ],
      "execution_count": null,
      "outputs": [
        {
          "output_type": "stream",
          "name": "stdout",
          "text": [
            "0.9112599664053589\n",
            "0.2446334021602247\n"
          ]
        }
      ]
    },
    {
      "cell_type": "markdown",
      "metadata": {
        "id": "7XaIBFq9vZxP"
      },
      "source": [
        "# **Optimizacion de hiperparametros**"
      ]
    },
    {
      "cell_type": "code",
      "metadata": {
        "id": "D6Woa8mmvcLA"
      },
      "source": [
        "from sklearn.model_selection import train_test_split\n",
        "\n",
        "X_train, X_test, y_train, y_test = train_test_split(X,y,random_state=1)"
      ],
      "execution_count": null,
      "outputs": []
    },
    {
      "cell_type": "code",
      "metadata": {
        "id": "q8G8kvusvfLt"
      },
      "source": [
        "from sklearn.model_selection import GridSearchCV\n",
        "\n",
        "param_test1 = {'n_estimators':range(20,501,20)}"
      ],
      "execution_count": null,
      "outputs": []
    },
    {
      "cell_type": "code",
      "metadata": {
        "id": "0BLU_mngvkct"
      },
      "source": [
        "estimador = GradientBoostingRegressor(learning_rate =0.1,\n",
        "                                     min_samples_split=500,\n",
        "                                     min_samples_leaf=50,\n",
        "                                     max_depth=8,\n",
        "                                     max_features='sqrt',\n",
        "                                     subsample=0.8,\n",
        "                                     random_state=10)"
      ],
      "execution_count": null,
      "outputs": []
    },
    {
      "cell_type": "code",
      "metadata": {
        "id": "Lcw6WT-nvmEH"
      },
      "source": [
        "gsearch1 = GridSearchCV(estimador,\n",
        "                       param_grid = param_test1,\n",
        "                       scoring='r2',\n",
        "                       cv=5)"
      ],
      "execution_count": null,
      "outputs": []
    },
    {
      "cell_type": "code",
      "metadata": {
        "colab": {
          "base_uri": "https://localhost:8080/"
        },
        "id": "Oa_LTWlSvnSU",
        "outputId": "4eff975e-6ccd-4f3c-9596-a91119492918"
      },
      "source": [
        "gsearch1.fit(X_train,y_train)"
      ],
      "execution_count": null,
      "outputs": [
        {
          "output_type": "execute_result",
          "data": {
            "text/plain": [
              "GridSearchCV(cv=5, error_score=nan,\n",
              "             estimator=GradientBoostingRegressor(alpha=0.9, ccp_alpha=0.0,\n",
              "                                                 criterion='friedman_mse',\n",
              "                                                 init=None, learning_rate=0.1,\n",
              "                                                 loss='ls', max_depth=8,\n",
              "                                                 max_features='sqrt',\n",
              "                                                 max_leaf_nodes=None,\n",
              "                                                 min_impurity_decrease=0.0,\n",
              "                                                 min_impurity_split=None,\n",
              "                                                 min_samples_leaf=50,\n",
              "                                                 min_samples_split=500,\n",
              "                                                 min_weight_fraction_leaf=0.0,\n",
              "                                                 n_estimators=100,\n",
              "                                                 n_iter_no_change=None,\n",
              "                                                 presort='deprecated',\n",
              "                                                 random_state=10, subsample=0.8,\n",
              "                                                 tol=0.0001,\n",
              "                                                 validation_fraction=0.1,\n",
              "                                                 verbose=0, warm_start=False),\n",
              "             iid='deprecated', n_jobs=None,\n",
              "             param_grid={'n_estimators': range(20, 501, 20)},\n",
              "             pre_dispatch='2*n_jobs', refit=True, return_train_score=False,\n",
              "             scoring='r2', verbose=0)"
            ]
          },
          "metadata": {},
          "execution_count": 27
        }
      ]
    },
    {
      "cell_type": "code",
      "metadata": {
        "id": "OuY5loj1vsM0"
      },
      "source": [
        "final_results = cross_validate(gsearch1.best_estimator_,X_train,y_train)"
      ],
      "execution_count": null,
      "outputs": []
    },
    {
      "cell_type": "code",
      "metadata": {
        "colab": {
          "base_uri": "https://localhost:8080/"
        },
        "id": "Un6oSDiivuZu",
        "outputId": "10c21181-9ae0-401a-d2e0-02e442ac5d3e"
      },
      "source": [
        "test_scores = results['test_score']\n",
        "train_scores = results['train_score']\n",
        "print(np.mean(train_scores))\n",
        "print(np.mean(test_scores))"
      ],
      "execution_count": null,
      "outputs": [
        {
          "output_type": "stream",
          "name": "stdout",
          "text": [
            "0.9112599664053589\n",
            "0.2446334021602247\n"
          ]
        }
      ]
    },
    {
      "cell_type": "code",
      "metadata": {
        "id": "hxFxcUVXvw4o"
      },
      "source": [
        "estimador = GradientBoostingRegressor(learning_rate =0.1,\n",
        "                                     min_samples_split=500,\n",
        "                                     min_samples_leaf=50,\n",
        "                                     max_depth=8,\n",
        "                                     max_features='sqrt',\n",
        "                                     subsample=0.8,\n",
        "                                     random_state=10,\n",
        "                                     n_estimators=40)"
      ],
      "execution_count": null,
      "outputs": []
    },
    {
      "cell_type": "code",
      "metadata": {
        "colab": {
          "base_uri": "https://localhost:8080/"
        },
        "id": "_mz1XCdW_4JF",
        "outputId": "8c621afc-d2b6-4c36-e4f0-f92e33caf0fd"
      },
      "source": [
        "estimador.fit(X_train,y_train)"
      ],
      "execution_count": null,
      "outputs": [
        {
          "output_type": "execute_result",
          "data": {
            "text/plain": [
              "GradientBoostingRegressor(alpha=0.9, ccp_alpha=0.0, criterion='friedman_mse',\n",
              "                          init=None, learning_rate=0.1, loss='ls', max_depth=8,\n",
              "                          max_features='sqrt', max_leaf_nodes=None,\n",
              "                          min_impurity_decrease=0.0, min_impurity_split=None,\n",
              "                          min_samples_leaf=50, min_samples_split=500,\n",
              "                          min_weight_fraction_leaf=0.0, n_estimators=40,\n",
              "                          n_iter_no_change=None, presort='deprecated',\n",
              "                          random_state=10, subsample=0.8, tol=0.0001,\n",
              "                          validation_fraction=0.1, verbose=0, warm_start=False)"
            ]
          },
          "metadata": {},
          "execution_count": 32
        }
      ]
    },
    {
      "cell_type": "code",
      "metadata": {
        "colab": {
          "base_uri": "https://localhost:8080/"
        },
        "id": "JQOkkgQPvxTa",
        "outputId": "13b75fa7-a1f0-4d6a-f9fd-8946f5e40ffc"
      },
      "source": [
        "estimador.score(X_test, y_test)"
      ],
      "execution_count": null,
      "outputs": [
        {
          "output_type": "execute_result",
          "data": {
            "text/plain": [
              "0.38343938170684366"
            ]
          },
          "metadata": {},
          "execution_count": 33
        }
      ]
    }
  ]
}